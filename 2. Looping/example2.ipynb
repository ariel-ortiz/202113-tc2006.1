{
 "cells": [
  {
   "cell_type": "code",
   "execution_count": 1,
   "id": "d44656e5-7a3b-4aea-a8af-08d877789a10",
   "metadata": {},
   "outputs": [
    {
     "data": {
      "text/plain": [
       "(6 3 4 2 -9 1 7)"
      ]
     },
     "execution_count": 1,
     "metadata": {},
     "output_type": "execute_result"
    }
   ],
   "source": [
    "(map inc [5 2 3 1 -10 0 6])"
   ]
  },
  {
   "cell_type": "code",
   "execution_count": 2,
   "id": "ffa45e00-ded5-4cc9-80b5-186eef959d79",
   "metadata": {},
   "outputs": [
    {
     "data": {
      "text/plain": [
       "(9 1 49 100 25)"
      ]
     },
     "execution_count": 2,
     "metadata": {},
     "output_type": "execute_result"
    }
   ],
   "source": [
    "(map (fn [x] (* x x)) [3 1 7 10 -5])"
   ]
  },
  {
   "cell_type": "code",
   "execution_count": 3,
   "id": "196b6fab-2a66-4b29-aaf7-0d4ed6f4873c",
   "metadata": {},
   "outputs": [
    {
     "data": {
      "text/plain": [
       "(9 1 49 100 25)"
      ]
     },
     "execution_count": 3,
     "metadata": {},
     "output_type": "execute_result"
    }
   ],
   "source": [
    "(map #(* % %) [3 1 7 10 -5])"
   ]
  },
  {
   "cell_type": "code",
   "execution_count": 4,
   "id": "d7b3943d-40bf-4050-9197-07383c57f6a6",
   "metadata": {},
   "outputs": [
    {
     "data": {
      "text/plain": [
       "#'user/square"
      ]
     },
     "execution_count": 4,
     "metadata": {},
     "output_type": "execute_result"
    }
   ],
   "source": [
    "(defn square\n",
    "  [x]\n",
    "  (* x x))"
   ]
  },
  {
   "cell_type": "code",
   "execution_count": 5,
   "id": "7ec773fe-31a1-4b8d-a0e4-cef3542bc80f",
   "metadata": {},
   "outputs": [
    {
     "data": {
      "text/plain": [
       "(9 1 49 100 25)"
      ]
     },
     "execution_count": 5,
     "metadata": {},
     "output_type": "execute_result"
    }
   ],
   "source": [
    "(map square [3 1 7 10 -5])"
   ]
  },
  {
   "cell_type": "code",
   "execution_count": 6,
   "id": "f7eef976-a646-4383-8271-67adb8645788",
   "metadata": {},
   "outputs": [
    {
     "data": {
      "text/plain": [
       "(6 8)"
      ]
     },
     "execution_count": 6,
     "metadata": {},
     "output_type": "execute_result"
    }
   ],
   "source": [
    "(filter #(> % 5) [3 -10 5 6 0 8])"
   ]
  },
  {
   "cell_type": "code",
   "execution_count": 7,
   "id": "42e3feb2-695a-46fc-a1f9-2a8eff363806",
   "metadata": {},
   "outputs": [
    {
     "data": {
      "text/plain": [
       "(0 0 0)"
      ]
     },
     "execution_count": 7,
     "metadata": {},
     "output_type": "execute_result"
    }
   ],
   "source": [
    "(filter zero? [3 4 0 -10 5 0 1 0])"
   ]
  },
  {
   "cell_type": "code",
   "execution_count": 8,
   "id": "6e650da6-9def-43cb-b377-1ce7888b0eda",
   "metadata": {},
   "outputs": [
    {
     "data": {
      "text/plain": [
       "()"
      ]
     },
     "execution_count": 8,
     "metadata": {},
     "output_type": "execute_result"
    }
   ],
   "source": [
    "(filter zero? [3 4 -10 5 1])"
   ]
  },
  {
   "cell_type": "code",
   "execution_count": 9,
   "id": "feaf109c-3232-4510-b9b8-85d6b2f45f1c",
   "metadata": {},
   "outputs": [
    {
     "data": {
      "text/plain": [
       "15"
      ]
     },
     "execution_count": 9,
     "metadata": {},
     "output_type": "execute_result"
    }
   ],
   "source": [
    "(reduce + [1 2 3 4 5])"
   ]
  },
  {
   "cell_type": "code",
   "execution_count": 10,
   "id": "f471ca4e-ce98-4459-a6fd-95bd2c468a38",
   "metadata": {},
   "outputs": [
    {
     "data": {
      "text/plain": [
       "46"
      ]
     },
     "execution_count": 10,
     "metadata": {},
     "output_type": "execute_result"
    }
   ],
   "source": [
    "(reduce (fn [accum x] (+ accum (* x x))) 0 [4 5 1 2])"
   ]
  },
  {
   "cell_type": "code",
   "execution_count": 11,
   "id": "d4ff8089-02cb-49f2-90d8-10087ff267ec",
   "metadata": {},
   "outputs": [
    {
     "data": {
      "text/plain": [
       "#'user/x"
      ]
     },
     "execution_count": 11,
     "metadata": {},
     "output_type": "execute_result"
    }
   ],
   "source": [
    "(def x '(1 2))"
   ]
  },
  {
   "cell_type": "code",
   "execution_count": 12,
   "id": "c069b1b5-71f3-498d-8aed-4789c3bc28ad",
   "metadata": {},
   "outputs": [
    {
     "data": {
      "text/plain": [
       "#'user/y"
      ]
     },
     "execution_count": 12,
     "metadata": {},
     "output_type": "execute_result"
    }
   ],
   "source": [
    "(def y '(a b))"
   ]
  },
  {
   "cell_type": "code",
   "execution_count": 13,
   "id": "4f4fa70c-b7fa-43c3-9adb-7e1f04cd2520",
   "metadata": {},
   "outputs": [
    {
     "data": {
      "text/plain": [
       "((1 2) a b)"
      ]
     },
     "execution_count": 13,
     "metadata": {},
     "output_type": "execute_result"
    }
   ],
   "source": [
    "(cons x y)"
   ]
  },
  {
   "cell_type": "code",
   "execution_count": 14,
   "id": "3f380806-5bfa-4b86-8fdf-dac5ad2b134c",
   "metadata": {},
   "outputs": [
    {
     "data": {
      "text/plain": [
       "((a b) 1 2)"
      ]
     },
     "execution_count": 14,
     "metadata": {},
     "output_type": "execute_result"
    }
   ],
   "source": [
    "(conj x y)"
   ]
  },
  {
   "cell_type": "code",
   "execution_count": 15,
   "id": "468fdfc0-4ceb-48f7-addf-d13d533755df",
   "metadata": {},
   "outputs": [
    {
     "data": {
      "text/plain": [
       "(1 2 a b)"
      ]
     },
     "execution_count": 15,
     "metadata": {},
     "output_type": "execute_result"
    }
   ],
   "source": [
    "(concat x y)"
   ]
  },
  {
   "cell_type": "code",
   "execution_count": 16,
   "id": "dcc787bd-9516-4d7e-9a0b-2c1a12df671b",
   "metadata": {},
   "outputs": [
    {
     "data": {
      "text/plain": [
       "((1 2) (a b))"
      ]
     },
     "execution_count": 16,
     "metadata": {},
     "output_type": "execute_result"
    }
   ],
   "source": [
    "(list x y)"
   ]
  },
  {
   "cell_type": "code",
   "execution_count": 17,
   "id": "bd278da3-d594-40c2-84d7-81036b8b800f",
   "metadata": {},
   "outputs": [
    {
     "data": {
      "text/plain": [
       "(0 1 2 3 4 5 6 7 8 9)"
      ]
     },
     "execution_count": 17,
     "metadata": {},
     "output_type": "execute_result"
    }
   ],
   "source": [
    "(take 10 (iterate inc 0))"
   ]
  },
  {
   "cell_type": "code",
   "execution_count": 18,
   "id": "3000bc09-cb0e-44c0-8401-8469797b1147",
   "metadata": {},
   "outputs": [
    {
     "data": {
      "text/plain": [
       "(0 1 2 3 4 5 6 7 8 9)"
      ]
     },
     "execution_count": 18,
     "metadata": {},
     "output_type": "execute_result"
    }
   ],
   "source": [
    "(range 10)"
   ]
  },
  {
   "cell_type": "code",
   "execution_count": 19,
   "id": "80a2bfd6-fdb1-482d-b12b-c7b442f07a1d",
   "metadata": {},
   "outputs": [
    {
     "data": {
      "text/plain": [
       "(1 2 4 8 16 32 64 128 256 512)"
      ]
     },
     "execution_count": 19,
     "metadata": {},
     "output_type": "execute_result"
    }
   ],
   "source": [
    "(take 10 (iterate #(* % 2) 1))"
   ]
  },
  {
   "cell_type": "code",
   "execution_count": 20,
   "id": "e2531233-e1c8-4147-88b8-0815ec110467",
   "metadata": {},
   "outputs": [
    {
     "data": {
      "text/plain": [
       "#'user/w"
      ]
     },
     "execution_count": 20,
     "metadata": {},
     "output_type": "execute_result"
    }
   ],
   "source": [
    "(def w (range 100))"
   ]
  },
  {
   "cell_type": "code",
   "execution_count": 21,
   "id": "b516bb99-2cf5-44a7-b176-598322c7d0ef",
   "metadata": {},
   "outputs": [
    {
     "data": {
      "text/plain": [
       "(0 1 2 3 4 5 6 7 8 9 10 11 12 13 14 15 16 17 18 19 20 21 22 23 24 25 26 27 28 29 30 31 32 33 34 35 36 37 38 39 40 41 42 43 44 45 46 47 48 49 50 51 52 53 54 55 56 57 58 59 60 61 62 63 64 65 66 67 68 69 70 71 72 73 74 75 76 77 78 79 80 81 82 83 84 85 86 87 88 89 90 91 92 93 94 95 96 97 98 99)"
      ]
     },
     "execution_count": 21,
     "metadata": {},
     "output_type": "execute_result"
    }
   ],
   "source": [
    "w"
   ]
  },
  {
   "cell_type": "code",
   "execution_count": 22,
   "id": "7267fe38-4844-45f6-b37f-c522443ef3b4",
   "metadata": {},
   "outputs": [
    {
     "data": {
      "text/plain": [
       "(0 1 2 3 4)"
      ]
     },
     "execution_count": 22,
     "metadata": {},
     "output_type": "execute_result"
    }
   ],
   "source": [
    "(take 5 w)"
   ]
  },
  {
   "cell_type": "code",
   "execution_count": 23,
   "id": "23a53f14-aa2a-49b9-bc80-e1615bf969d3",
   "metadata": {},
   "outputs": [
    {
     "data": {
      "text/plain": [
       "(95 96 97 98 99)"
      ]
     },
     "execution_count": 23,
     "metadata": {},
     "output_type": "execute_result"
    }
   ],
   "source": [
    "(drop 95 w)"
   ]
  },
  {
   "cell_type": "code",
   "execution_count": 24,
   "id": "54a49295-7610-4550-8ca6-be0ae526ce35",
   "metadata": {},
   "outputs": [
    {
     "data": {
      "text/plain": [
       "(10 11)"
      ]
     },
     "execution_count": 24,
     "metadata": {},
     "output_type": "execute_result"
    }
   ],
   "source": [
    "(take 2 (drop 10 w))"
   ]
  }
 ],
 "metadata": {
  "kernelspec": {
   "display_name": "Clojure (clojupyter=0.3.2=1)",
   "language": "clojure",
   "name": "conda-clojupyter"
  },
  "language_info": {
   "file_extension": ".clj",
   "mimetype": "text/x-clojure",
   "name": "clojure",
   "version": "1.10.1"
  }
 },
 "nbformat": 4,
 "nbformat_minor": 5
}
