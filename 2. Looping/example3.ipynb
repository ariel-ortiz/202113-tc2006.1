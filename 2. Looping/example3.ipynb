{
 "cells": [
  {
   "cell_type": "code",
   "execution_count": 1,
   "id": "0e600dce-332c-4ff2-a9fe-053403868717",
   "metadata": {},
   "outputs": [
    {
     "data": {
      "text/plain": [
       "#'user/insert-v1"
      ]
     },
     "execution_count": 1,
     "metadata": {},
     "output_type": "execute_result"
    }
   ],
   "source": [
    ";; Recursive version O(N)\n",
    "(defn insert-v1\n",
    "  [n s]\n",
    "  (cond\n",
    "    (empty? s) \n",
    "    (list n)\n",
    "    \n",
    "    (<= n (first s))\n",
    "    (cons n s)\n",
    "    \n",
    "    :else\n",
    "    (cons (first s) (insert-v1 n (rest s)))))"
   ]
  },
  {
   "cell_type": "code",
   "execution_count": 2,
   "id": "8820bffc-34c3-45a9-b2f3-f8807d803867",
   "metadata": {},
   "outputs": [
    {
     "data": {
      "text/plain": [
       "(3)"
      ]
     },
     "execution_count": 2,
     "metadata": {},
     "output_type": "execute_result"
    }
   ],
   "source": [
    "(insert-v1 3 ())"
   ]
  },
  {
   "cell_type": "code",
   "execution_count": 3,
   "id": "7b678734-8657-4577-a841-2b04dd640b1b",
   "metadata": {},
   "outputs": [
    {
     "data": {
      "text/plain": [
       "(2 3 4 5 6 7)"
      ]
     },
     "execution_count": 3,
     "metadata": {},
     "output_type": "execute_result"
    }
   ],
   "source": [
    "(insert-v1 2 '(3 4 5 6 7))"
   ]
  },
  {
   "cell_type": "code",
   "execution_count": 4,
   "id": "c34500cf-c956-489b-bb35-a0474f487516",
   "metadata": {},
   "outputs": [
    {
     "data": {
      "text/plain": [
       "(2 3 4 5 6 7 8 9)"
      ]
     },
     "execution_count": 4,
     "metadata": {},
     "output_type": "execute_result"
    }
   ],
   "source": [
    "(insert-v1 6 '(2 3 4 5 7 8 9))"
   ]
  },
  {
   "cell_type": "code",
   "execution_count": 5,
   "id": "86f159bd-bcee-41fc-ba1e-6e9ddfe95f26",
   "metadata": {},
   "outputs": [
    {
     "data": {
      "text/plain": [
       "#'user/insert-v2"
      ]
     },
     "execution_count": 5,
     "metadata": {},
     "output_type": "execute_result"
    }
   ],
   "source": [
    ";; Loop/recur version O(N)\n",
    "(defn insert-v2\n",
    "  [n s]\n",
    "  (loop [s s\n",
    "         r ()]\n",
    "    (if (or (empty? s) (<= n (first s)))\n",
    "      (concat (reverse (cons n r)) s)\n",
    "      (recur (rest s) \n",
    "             (cons (first s) r)))))"
   ]
  },
  {
   "cell_type": "code",
   "execution_count": 6,
   "id": "4314895a-3e24-430e-8abe-82970cbb7c46",
   "metadata": {},
   "outputs": [
    {
     "data": {
      "text/plain": [
       "(1 1 1 2 2 2 3 4 4 5 6 7)"
      ]
     },
     "execution_count": 6,
     "metadata": {},
     "output_type": "execute_result"
    }
   ],
   "source": [
    "(insert-v2 3 '(1 1 1 2 2 2 4 4 5 6 7))"
   ]
  },
  {
   "cell_type": "code",
   "execution_count": 7,
   "id": "4593122f-1c4b-4305-b2be-261873a088b7",
   "metadata": {},
   "outputs": [
    {
     "data": {
      "text/plain": [
       "4"
      ]
     },
     "execution_count": 7,
     "metadata": {},
     "output_type": "execute_result"
    }
   ],
   "source": [
    "(nth '(4 3 1 2 3) 0) ;; O(N) when using lists"
   ]
  },
  {
   "cell_type": "code",
   "execution_count": 8,
   "id": "b2933eb0-79e3-4564-8498-33bf28816353",
   "metadata": {},
   "outputs": [
    {
     "data": {
      "text/plain": [
       "4"
      ]
     },
     "execution_count": 8,
     "metadata": {},
     "output_type": "execute_result"
    }
   ],
   "source": [
    "(nth [4 3 1 2 3] 0) ;; O(1) when using vectors"
   ]
  },
  {
   "cell_type": "code",
   "execution_count": 9,
   "id": "dfad65d1-838f-4e03-9686-a6e4dc61bfb2",
   "metadata": {},
   "outputs": [
    {
     "data": {
      "text/plain": [
       "#'user/v"
      ]
     },
     "execution_count": 9,
     "metadata": {},
     "output_type": "execute_result"
    }
   ],
   "source": [
    "(def v [4 3 1 2 3])"
   ]
  },
  {
   "cell_type": "code",
   "execution_count": 10,
   "id": "e552b13b-8274-420f-b408-15d941c23804",
   "metadata": {},
   "outputs": [
    {
     "data": {
      "text/plain": [
       "2"
      ]
     },
     "execution_count": 10,
     "metadata": {},
     "output_type": "execute_result"
    }
   ],
   "source": [
    "(v 3) ;; (nth v 3)"
   ]
  },
  {
   "cell_type": "code",
   "execution_count": 11,
   "id": "c870ce2a-b5e0-49b4-8b93-275f4187ab4d",
   "metadata": {},
   "outputs": [
    {
     "data": {
      "text/plain": [
       "(-1 -2 -5 -7)"
      ]
     },
     "execution_count": 11,
     "metadata": {},
     "output_type": "execute_result"
    }
   ],
   "source": [
    "(take-while neg? '(-1 -2 -5 -7 1 4 1 -4 -7))"
   ]
  },
  {
   "cell_type": "code",
   "execution_count": 12,
   "id": "9ce83253-4b82-403a-b8d2-4ba618c9cb31",
   "metadata": {},
   "outputs": [
    {
     "data": {
      "text/plain": [
       "(1 4 1 -4 -7)"
      ]
     },
     "execution_count": 12,
     "metadata": {},
     "output_type": "execute_result"
    }
   ],
   "source": [
    "(drop-while neg? '(-1 -2 -5 -7 1 4 1 -4 -7))"
   ]
  },
  {
   "cell_type": "code",
   "execution_count": 13,
   "id": "3489a7b6-18e8-4d41-a2db-ca5abc923bcd",
   "metadata": {},
   "outputs": [
    {
     "data": {
      "text/plain": [
       "[(-1 -2 -5 -7) (1 4 1 -4 -7)]"
      ]
     },
     "execution_count": 13,
     "metadata": {},
     "output_type": "execute_result"
    }
   ],
   "source": [
    "(split-with neg? '(-1 -2 -5 -7 1 4 1 -4 -7))"
   ]
  },
  {
   "cell_type": "code",
   "execution_count": 14,
   "id": "4f5695e2-9b25-410e-a070-f7b2748ec9f3",
   "metadata": {},
   "outputs": [
    {
     "data": {
      "text/plain": [
       "#'user/insert-v3"
      ]
     },
     "execution_count": 14,
     "metadata": {},
     "output_type": "execute_result"
    }
   ],
   "source": [
    ";; Clojure sequence API version O(N)\n",
    "(defn insert-v3\n",
    "  [n s]\n",
    "  (let [[smaller bigger] (split-with #(< % n) s)]\n",
    "    (concat smaller [n] bigger)))"
   ]
  },
  {
   "cell_type": "code",
   "execution_count": 15,
   "id": "fb2335db-5f28-4281-be4c-5906b08b77a8",
   "metadata": {},
   "outputs": [
    {
     "data": {
      "text/plain": [
       "(1 2 3 3 4 5 6 7)"
      ]
     },
     "execution_count": 15,
     "metadata": {},
     "output_type": "execute_result"
    }
   ],
   "source": [
    "(insert-v3 3 '(1 2 3 4 5 6 7))"
   ]
  },
  {
   "cell_type": "code",
   "execution_count": 16,
   "id": "da3ef052-fd60-4bf7-969f-6b9219c50bbd",
   "metadata": {},
   "outputs": [
    {
     "data": {
      "text/plain": [
       "#'user/insertion-sort"
      ]
     },
     "execution_count": 16,
     "metadata": {},
     "output_type": "execute_result"
    }
   ],
   "source": [
    ";; O(N^2)\n",
    "(defn insertion-sort\n",
    "  [s]\n",
    "  (if (empty? s)\n",
    "    ()\n",
    "    (insert-v3 (first s) (insertion-sort (rest s)))))"
   ]
  },
  {
   "cell_type": "code",
   "execution_count": 17,
   "id": "22455aca-dd10-472a-9648-5948670bf5cb",
   "metadata": {},
   "outputs": [
    {
     "data": {
      "text/plain": [
       "(0 1 1 2 3 4 5 5 6 7 7 8 9)"
      ]
     },
     "execution_count": 17,
     "metadata": {},
     "output_type": "execute_result"
    }
   ],
   "source": [
    "(insertion-sort [3 1 2 5 7 4 6 9 8 0 1 5 7])"
   ]
  },
  {
   "cell_type": "code",
   "execution_count": 18,
   "id": "eeaf379e-f24e-4961-9095-fc41a0df6121",
   "metadata": {},
   "outputs": [
    {
     "data": {
      "text/plain": [
       "#'user/quick-sort"
      ]
     },
     "execution_count": 18,
     "metadata": {},
     "output_type": "execute_result"
    }
   ],
   "source": [
    "(defn quick-sort\n",
    "  [s]\n",
    "  (if (empty? s)\n",
    "    ()\n",
    "    (let [pivot   (first s)\n",
    "          smaller (filter #(< % pivot) (rest s))\n",
    "          bigger  (filter #(>= % pivot) (rest s))]\n",
    "      (concat (quick-sort smaller)\n",
    "              [pivot]\n",
    "              (quick-sort bigger)))))"
   ]
  },
  {
   "cell_type": "code",
   "execution_count": 19,
   "id": "c4335f71-eb3d-4ef5-958d-1304be04c60e",
   "metadata": {},
   "outputs": [
    {
     "data": {
      "text/plain": [
       "(0 1 1 2 3 4 5 5 6 7 7 8 9)"
      ]
     },
     "execution_count": 19,
     "metadata": {},
     "output_type": "execute_result"
    }
   ],
   "source": [
    "(quick-sort [3 1 2 5 7 4 6 9 8 0 1 5 7])"
   ]
  },
  {
   "cell_type": "code",
   "execution_count": 20,
   "id": "b21ad298-3f2a-4139-bdcb-bcbe26038aab",
   "metadata": {},
   "outputs": [
    {
     "data": {
      "text/plain": [
       "((1 2) (-4 -5 -6) (10) (-7) (4) (-1 -2 -10))"
      ]
     },
     "execution_count": 20,
     "metadata": {},
     "output_type": "execute_result"
    }
   ],
   "source": [
    "(partition-by neg? [1 2 -4 -5 -6 10 -7 4 -1 -2 -10])"
   ]
  },
  {
   "cell_type": "code",
   "execution_count": 21,
   "id": "89c6653d-dd07-487d-b238-aca7a73c4de4",
   "metadata": {},
   "outputs": [
    {
     "data": {
      "text/plain": [
       "((1) (2 4) (7 9 11 3 5) (6))"
      ]
     },
     "execution_count": 21,
     "metadata": {},
     "output_type": "execute_result"
    }
   ],
   "source": [
    "(partition-by even? [1 2 4 7 9 11 3 5 6])"
   ]
  },
  {
   "cell_type": "code",
   "execution_count": 22,
   "id": "b96faf19-07a4-45ee-bfd0-d07aca396422",
   "metadata": {},
   "outputs": [
    {
     "data": {
      "text/plain": [
       "((5 8 11) (6 3) (1 4))"
      ]
     },
     "execution_count": 22,
     "metadata": {},
     "output_type": "execute_result"
    }
   ],
   "source": [
    "(partition-by #(rem % 3) [5 8 11 6 3 1 4])"
   ]
  },
  {
   "cell_type": "code",
   "execution_count": 23,
   "id": "5dc919e1-1112-4efc-98e8-8a2bd0c41ff5",
   "metadata": {},
   "outputs": [
    {
     "data": {
      "text/plain": [
       "1"
      ]
     },
     "execution_count": 23,
     "metadata": {},
     "output_type": "execute_result"
    }
   ],
   "source": [
    "(rem 4 3)"
   ]
  },
  {
   "cell_type": "code",
   "execution_count": 24,
   "id": "eba4baf6-0f67-447b-b3d0-84d1ac20c823",
   "metadata": {},
   "outputs": [
    {
     "data": {
      "text/plain": [
       "((a a b c d e))"
      ]
     },
     "execution_count": 24,
     "metadata": {},
     "output_type": "execute_result"
    }
   ],
   "source": [
    "(partition-by symbol? '(a a b c d e))"
   ]
  },
  {
   "cell_type": "code",
   "execution_count": 25,
   "id": "665f1ae2-da41-4746-8029-e649735b89ec",
   "metadata": {},
   "outputs": [
    {
     "data": {
      "text/plain": [
       "5"
      ]
     },
     "execution_count": 25,
     "metadata": {},
     "output_type": "execute_result"
    }
   ],
   "source": [
    "(identity 5)"
   ]
  },
  {
   "cell_type": "code",
   "execution_count": 26,
   "id": "51006a8d-e725-42ad-8452-a1c8f2445dc2",
   "metadata": {},
   "outputs": [
    {
     "data": {
      "text/plain": [
       "x"
      ]
     },
     "execution_count": 26,
     "metadata": {},
     "output_type": "execute_result"
    }
   ],
   "source": [
    "(identity 'x)"
   ]
  },
  {
   "cell_type": "code",
   "execution_count": 27,
   "id": "e8ea8b85-2b6d-49e8-bd9d-bce12e2693f2",
   "metadata": {},
   "outputs": [
    {
     "data": {
      "text/plain": [
       "true"
      ]
     },
     "execution_count": 27,
     "metadata": {},
     "output_type": "execute_result"
    }
   ],
   "source": [
    "(identity true)"
   ]
  },
  {
   "cell_type": "code",
   "execution_count": 28,
   "id": "98b2c1c8-0cee-4169-99bc-b26503a4b67d",
   "metadata": {},
   "outputs": [
    {
     "data": {
      "text/plain": [
       "()"
      ]
     },
     "execution_count": 28,
     "metadata": {},
     "output_type": "execute_result"
    }
   ],
   "source": [
    "(identity ())"
   ]
  },
  {
   "cell_type": "code",
   "execution_count": 29,
   "id": "80cadb1d-1d2d-483e-afaa-904d242e426d",
   "metadata": {},
   "outputs": [
    {
     "data": {
      "text/plain": [
       "\"hello\""
      ]
     },
     "execution_count": 29,
     "metadata": {},
     "output_type": "execute_result"
    }
   ],
   "source": [
    "(identity \"hello\")"
   ]
  },
  {
   "cell_type": "code",
   "execution_count": 30,
   "id": "af81f078-21b4-4ce5-b9c6-c40401fe0d4a",
   "metadata": {},
   "outputs": [
    {
     "data": {
      "text/plain": [
       "((1) (2) (3) (4) (5 5) (6 6 6) (7))"
      ]
     },
     "execution_count": 30,
     "metadata": {},
     "output_type": "execute_result"
    }
   ],
   "source": [
    "(partition-by identity [1 2 3 4 5 5 6 6 6 7])"
   ]
  }
 ],
 "metadata": {
  "kernelspec": {
   "display_name": "Clojure (clojupyter=0.3.2=1)",
   "language": "clojure",
   "name": "conda-clojupyter"
  },
  "language_info": {
   "file_extension": ".clj",
   "mimetype": "text/x-clojure",
   "name": "clojure",
   "version": "1.10.1"
  }
 },
 "nbformat": 4,
 "nbformat_minor": 5
}
