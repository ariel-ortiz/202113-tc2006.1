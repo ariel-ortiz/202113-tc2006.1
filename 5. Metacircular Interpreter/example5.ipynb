{
 "cells": [
  {
   "cell_type": "code",
   "execution_count": 1,
   "id": "efb4afa6-b2a2-4f43-9810-50fc515c92a6",
   "metadata": {},
   "outputs": [
    {
     "data": {
      "text/plain": [
       "#'user/x"
      ]
     },
     "execution_count": 1,
     "metadata": {},
     "output_type": "execute_result"
    }
   ],
   "source": [
    "(def x '(+ 2 3))"
   ]
  },
  {
   "cell_type": "code",
   "execution_count": 2,
   "id": "47921167-af8b-4b57-9d3f-b5f89baad98a",
   "metadata": {},
   "outputs": [
    {
     "data": {
      "text/plain": [
       "(+ 2 3)"
      ]
     },
     "execution_count": 2,
     "metadata": {},
     "output_type": "execute_result"
    }
   ],
   "source": [
    "x"
   ]
  },
  {
   "cell_type": "code",
   "execution_count": 3,
   "id": "655beff2-56cd-4590-ac1f-ba880ca9a4f0",
   "metadata": {},
   "outputs": [
    {
     "data": {
      "text/plain": [
       "true"
      ]
     },
     "execution_count": 3,
     "metadata": {},
     "output_type": "execute_result"
    }
   ],
   "source": [
    "(list? x)"
   ]
  },
  {
   "cell_type": "code",
   "execution_count": 4,
   "id": "8e273643-2d21-45d3-adf3-b0cfdf0aff7e",
   "metadata": {},
   "outputs": [
    {
     "data": {
      "text/plain": [
       "3"
      ]
     },
     "execution_count": 4,
     "metadata": {},
     "output_type": "execute_result"
    }
   ],
   "source": [
    "(count x)"
   ]
  },
  {
   "cell_type": "code",
   "execution_count": 5,
   "id": "f236be1a-6029-45da-afe6-fba19ec4b233",
   "metadata": {},
   "outputs": [
    {
     "data": {
      "text/plain": [
       "+"
      ]
     },
     "execution_count": 5,
     "metadata": {},
     "output_type": "execute_result"
    }
   ],
   "source": [
    "(first x)"
   ]
  },
  {
   "cell_type": "code",
   "execution_count": 6,
   "id": "85d8e9ef-28f2-4497-8f5d-287ef717fd8e",
   "metadata": {},
   "outputs": [
    {
     "data": {
      "text/plain": [
       "true"
      ]
     },
     "execution_count": 6,
     "metadata": {},
     "output_type": "execute_result"
    }
   ],
   "source": [
    "(symbol? (first x))"
   ]
  },
  {
   "cell_type": "code",
   "execution_count": 7,
   "id": "8f39b5db-1ce4-4802-a493-d0e8b871d8ef",
   "metadata": {},
   "outputs": [
    {
     "data": {
      "text/plain": [
       "5"
      ]
     },
     "execution_count": 7,
     "metadata": {},
     "output_type": "execute_result"
    }
   ],
   "source": [
    "(eval x)"
   ]
  },
  {
   "cell_type": "code",
   "execution_count": 8,
   "id": "6b333e8e-9b76-4053-b944-e23c74e43892",
   "metadata": {},
   "outputs": [
    {
     "data": {
      "text/plain": [
       "#'user/m"
      ]
     },
     "execution_count": 8,
     "metadata": {},
     "output_type": "execute_result"
    }
   ],
   "source": [
    "(def m {:one 1 :two 2 :three 3})"
   ]
  },
  {
   "cell_type": "code",
   "execution_count": 9,
   "id": "cdda74bb-e246-4c03-abb2-6b0a27a1971b",
   "metadata": {},
   "outputs": [
    {
     "data": {
      "text/plain": [
       "1"
      ]
     },
     "execution_count": 9,
     "metadata": {},
     "output_type": "execute_result"
    }
   ],
   "source": [
    "(m :one)"
   ]
  },
  {
   "cell_type": "code",
   "execution_count": 10,
   "id": "c2eca351-a301-4eff-b1b1-df0bb7ff711a",
   "metadata": {},
   "outputs": [
    {
     "data": {
      "text/plain": [
       "3"
      ]
     },
     "execution_count": 10,
     "metadata": {},
     "output_type": "execute_result"
    }
   ],
   "source": [
    "(m :three)"
   ]
  },
  {
   "cell_type": "code",
   "execution_count": 11,
   "id": "c7303319-3822-45da-8950-b1bff143442d",
   "metadata": {},
   "outputs": [
    {
     "data": {
      "text/plain": [
       "nil"
      ]
     },
     "execution_count": 11,
     "metadata": {},
     "output_type": "execute_result"
    }
   ],
   "source": [
    "(m :four)"
   ]
  },
  {
   "cell_type": "code",
   "execution_count": 12,
   "id": "39530a51-adea-4389-afbe-efa92071b764",
   "metadata": {},
   "outputs": [
    {
     "data": {
      "text/plain": [
       "true"
      ]
     },
     "execution_count": 12,
     "metadata": {},
     "output_type": "execute_result"
    }
   ],
   "source": [
    "(contains? m :two)"
   ]
  },
  {
   "cell_type": "code",
   "execution_count": 13,
   "id": "effd364c-6874-4632-9504-7afe2d4efd4a",
   "metadata": {},
   "outputs": [
    {
     "data": {
      "text/plain": [
       "false"
      ]
     },
     "execution_count": 13,
     "metadata": {},
     "output_type": "execute_result"
    }
   ],
   "source": [
    "(contains? m :four)"
   ]
  },
  {
   "cell_type": "code",
   "execution_count": 14,
   "id": "ce4bba01-69de-4052-a869-8b095f47ca22",
   "metadata": {},
   "outputs": [
    {
     "data": {
      "text/plain": [
       "nil"
      ]
     },
     "execution_count": 14,
     "metadata": {},
     "output_type": "execute_result"
    }
   ],
   "source": [
    "(first ())"
   ]
  },
  {
   "cell_type": "code",
   "execution_count": 15,
   "id": "1abf0168-1e53-4bae-a473-6367244b0660",
   "metadata": {},
   "outputs": [
    {
     "data": {
      "text/plain": [
       "two"
      ]
     },
     "execution_count": 15,
     "metadata": {},
     "output_type": "execute_result"
    }
   ],
   "source": [
    "(case (+ 1 1)\n",
    "  1 'one\n",
    "  2 'two\n",
    "  5 'five\n",
    "  'something-else)"
   ]
  },
  {
   "cell_type": "code",
   "execution_count": 16,
   "id": "400aa32a-a60a-4d8f-9063-a81386da7a39",
   "metadata": {},
   "outputs": [
    {
     "data": {
      "text/plain": [
       "user.Student"
      ]
     },
     "execution_count": 16,
     "metadata": {},
     "output_type": "execute_result"
    }
   ],
   "source": [
    "(defrecord Student [id name grade])"
   ]
  },
  {
   "cell_type": "code",
   "execution_count": 17,
   "id": "cd849e53-9c75-40d5-9379-5ed9fb585f91",
   "metadata": {},
   "outputs": [
    {
     "data": {
      "text/plain": [
       "#'user/s"
      ]
     },
     "execution_count": 17,
     "metadata": {},
     "output_type": "execute_result"
    }
   ],
   "source": [
    "(def s (->Student 123 \"John Smith\" 97))"
   ]
  },
  {
   "cell_type": "code",
   "execution_count": 18,
   "id": "0575d04f-ee26-4b98-a35d-388bc7e83f74",
   "metadata": {},
   "outputs": [
    {
     "data": {
      "text/plain": [
       "123"
      ]
     },
     "execution_count": 18,
     "metadata": {},
     "output_type": "execute_result"
    }
   ],
   "source": [
    "(.id s)"
   ]
  },
  {
   "cell_type": "code",
   "execution_count": 19,
   "id": "0ff8cd0b-d4b2-4c5a-8ccc-ecea7ef1ee31",
   "metadata": {},
   "outputs": [
    {
     "data": {
      "text/plain": [
       "\"John Smith\""
      ]
     },
     "execution_count": 19,
     "metadata": {},
     "output_type": "execute_result"
    }
   ],
   "source": [
    "(.name s)"
   ]
  },
  {
   "cell_type": "code",
   "execution_count": 20,
   "id": "b84c39be-b76a-4296-9b17-d160d442a9a8",
   "metadata": {},
   "outputs": [
    {
     "data": {
      "text/plain": [
       "97"
      ]
     },
     "execution_count": 20,
     "metadata": {},
     "output_type": "execute_result"
    }
   ],
   "source": [
    "(.grade s)"
   ]
  },
  {
   "cell_type": "code",
   "execution_count": 21,
   "id": "488c0a75-3927-4be1-a2e5-0a6ef287a8a8",
   "metadata": {},
   "outputs": [
    {
     "data": {
      "text/plain": [
       "#'user/s2"
      ]
     },
     "execution_count": 21,
     "metadata": {},
     "output_type": "execute_result"
    }
   ],
   "source": [
    "(def s2 (assoc s :grade 99))"
   ]
  },
  {
   "cell_type": "code",
   "execution_count": 22,
   "id": "33fe4e5e-5e27-448b-a0ca-28e0f6da5499",
   "metadata": {},
   "outputs": [
    {
     "data": {
      "text/plain": [
       "97"
      ]
     },
     "execution_count": 22,
     "metadata": {},
     "output_type": "execute_result"
    }
   ],
   "source": [
    "(.grade s)"
   ]
  },
  {
   "cell_type": "code",
   "execution_count": 23,
   "id": "07cad065-628c-4186-b9f5-64eebfded9ad",
   "metadata": {},
   "outputs": [
    {
     "data": {
      "text/plain": [
       "99"
      ]
     },
     "execution_count": 23,
     "metadata": {},
     "output_type": "execute_result"
    }
   ],
   "source": [
    "(.grade s2)"
   ]
  },
  {
   "cell_type": "code",
   "execution_count": 24,
   "id": "793b916c-c939-45fc-8134-b4afebdbd751",
   "metadata": {},
   "outputs": [
    {
     "data": {
      "text/plain": [
       "{1 a, 2 b, 3 c, 4 d}"
      ]
     },
     "execution_count": 24,
     "metadata": {},
     "output_type": "execute_result"
    }
   ],
   "source": [
    "(zipmap '(1 2 3 4) '(a b c d))"
   ]
  },
  {
   "cell_type": "code",
   "execution_count": 25,
   "id": "2fd5fadf-1b3d-4d90-ab9d-d250d325e3a3",
   "metadata": {},
   "outputs": [
    {
     "data": {
      "text/plain": [
       "{a 1, b 3, c 3}"
      ]
     },
     "execution_count": 25,
     "metadata": {},
     "output_type": "execute_result"
    }
   ],
   "source": [
    "(merge {'a 1, 'b 2} {'c 3 'b 3})"
   ]
  },
  {
   "cell_type": "code",
   "execution_count": 26,
   "id": "fe6c2ba2-bd24-40fb-a4bb-d1047af47dda",
   "metadata": {},
   "outputs": [
    {
     "data": {
      "text/plain": [
       "#'user/n"
      ]
     },
     "execution_count": 26,
     "metadata": {},
     "output_type": "execute_result"
    }
   ],
   "source": [
    "(def n (atom 5))"
   ]
  },
  {
   "cell_type": "code",
   "execution_count": 27,
   "id": "704248fa-0041-4f1c-b4b7-7f0d4426ffd7",
   "metadata": {},
   "outputs": [
    {
     "data": {
      "text/plain": [
       "#atom[5 0x58f36955]"
      ]
     },
     "execution_count": 27,
     "metadata": {},
     "output_type": "execute_result"
    }
   ],
   "source": [
    "n"
   ]
  },
  {
   "cell_type": "code",
   "execution_count": 28,
   "id": "832d83ef-f5d4-46ed-b844-1e08937ab6fa",
   "metadata": {},
   "outputs": [
    {
     "data": {
      "text/plain": [
       "5"
      ]
     },
     "execution_count": 28,
     "metadata": {},
     "output_type": "execute_result"
    }
   ],
   "source": [
    "(deref n)"
   ]
  },
  {
   "cell_type": "code",
   "execution_count": 29,
   "id": "5850a42d-65ab-441a-96ae-fa80ab387fe6",
   "metadata": {},
   "outputs": [
    {
     "data": {
      "text/plain": [
       "5"
      ]
     },
     "execution_count": 29,
     "metadata": {},
     "output_type": "execute_result"
    }
   ],
   "source": [
    "@n"
   ]
  },
  {
   "cell_type": "code",
   "execution_count": 30,
   "id": "0b7b78bc-08b0-4945-a5b0-29842b4aadb7",
   "metadata": {},
   "outputs": [
    {
     "data": {
      "text/plain": [
       "6"
      ]
     },
     "execution_count": 30,
     "metadata": {},
     "output_type": "execute_result"
    }
   ],
   "source": [
    "(swap! n inc)"
   ]
  },
  {
   "cell_type": "code",
   "execution_count": 31,
   "id": "c7dedd38-f045-49bd-9ed6-7ecef34f33f0",
   "metadata": {},
   "outputs": [
    {
     "data": {
      "text/plain": [
       "#atom[6 0x58f36955]"
      ]
     },
     "execution_count": 31,
     "metadata": {},
     "output_type": "execute_result"
    }
   ],
   "source": [
    "n"
   ]
  },
  {
   "cell_type": "code",
   "execution_count": 32,
   "id": "d45dc484-b695-4b79-992a-eb6d7ddec4f5",
   "metadata": {},
   "outputs": [
    {
     "data": {
      "text/plain": [
       "6"
      ]
     },
     "execution_count": 32,
     "metadata": {},
     "output_type": "execute_result"
    }
   ],
   "source": [
    "@n"
   ]
  },
  {
   "cell_type": "code",
   "execution_count": 33,
   "id": "4081de31-ece8-4511-9591-b500fdc32029",
   "metadata": {},
   "outputs": [
    {
     "data": {
      "text/plain": [
       "#'user/d"
      ]
     },
     "execution_count": 33,
     "metadata": {},
     "output_type": "execute_result"
    }
   ],
   "source": [
    "(def d (atom {:A 1 :B 2 :C 3}))"
   ]
  },
  {
   "cell_type": "code",
   "execution_count": 34,
   "id": "8095ac81-11a5-41b9-b768-fe6a2ec8b1b6",
   "metadata": {},
   "outputs": [
    {
     "data": {
      "text/plain": [
       "#atom[{:A 1, :B 2, :C 3} 0x646b2ff7]"
      ]
     },
     "execution_count": 34,
     "metadata": {},
     "output_type": "execute_result"
    }
   ],
   "source": [
    "d"
   ]
  },
  {
   "cell_type": "code",
   "execution_count": 35,
   "id": "12fa0e8f-2133-4b4f-85e5-79c7687fe79c",
   "metadata": {},
   "outputs": [
    {
     "data": {
      "text/plain": [
       "{:A 1, :B 2, :C 3}"
      ]
     },
     "execution_count": 35,
     "metadata": {},
     "output_type": "execute_result"
    }
   ],
   "source": [
    "@d"
   ]
  },
  {
   "cell_type": "code",
   "execution_count": 36,
   "id": "8fe762da-ff2e-4437-8ae6-6422a60fdad9",
   "metadata": {},
   "outputs": [
    {
     "data": {
      "text/plain": [
       "{:A 1, :B 5, :C 3}"
      ]
     },
     "execution_count": 36,
     "metadata": {},
     "output_type": "execute_result"
    }
   ],
   "source": [
    "(assoc @d :B 5)"
   ]
  },
  {
   "cell_type": "code",
   "execution_count": 37,
   "id": "8bdcceb4-d667-4f2f-9e2b-7689e1a2becc",
   "metadata": {},
   "outputs": [
    {
     "data": {
      "text/plain": [
       "{:A 1, :B 2, :C 3}"
      ]
     },
     "execution_count": 37,
     "metadata": {},
     "output_type": "execute_result"
    }
   ],
   "source": [
    "@d"
   ]
  },
  {
   "cell_type": "code",
   "execution_count": 38,
   "id": "3a4f71b5-da5c-4c07-bca4-f4754b939b9b",
   "metadata": {},
   "outputs": [
    {
     "data": {
      "text/plain": [
       "{:A 1, :B 5, :C 3}"
      ]
     },
     "execution_count": 38,
     "metadata": {},
     "output_type": "execute_result"
    }
   ],
   "source": [
    "(swap! d #(assoc % :B 5))"
   ]
  },
  {
   "cell_type": "code",
   "execution_count": 39,
   "id": "14baa4c9-e7c3-49f4-bd9b-52404a088511",
   "metadata": {},
   "outputs": [
    {
     "data": {
      "text/plain": [
       "{:A 1, :B 5, :C 3}"
      ]
     },
     "execution_count": 39,
     "metadata": {},
     "output_type": "execute_result"
    }
   ],
   "source": [
    "@d"
   ]
  }
 ],
 "metadata": {
  "kernelspec": {
   "display_name": "Clojure (clojupyter=0.3.2=1)",
   "language": "clojure",
   "name": "conda-clojupyter"
  },
  "language_info": {
   "file_extension": ".clj",
   "mimetype": "text/x-clojure",
   "name": "clojure",
   "version": "1.10.1"
  }
 },
 "nbformat": 4,
 "nbformat_minor": 5
}
