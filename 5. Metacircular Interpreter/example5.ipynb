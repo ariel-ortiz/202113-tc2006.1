{
 "cells": [
  {
   "cell_type": "code",
   "execution_count": 1,
   "id": "efb4afa6-b2a2-4f43-9810-50fc515c92a6",
   "metadata": {},
   "outputs": [
    {
     "data": {
      "text/plain": [
       "#'user/x"
      ]
     },
     "execution_count": 1,
     "metadata": {},
     "output_type": "execute_result"
    }
   ],
   "source": [
    "(def x '(+ 2 3))"
   ]
  },
  {
   "cell_type": "code",
   "execution_count": 2,
   "id": "47921167-af8b-4b57-9d3f-b5f89baad98a",
   "metadata": {},
   "outputs": [
    {
     "data": {
      "text/plain": [
       "(+ 2 3)"
      ]
     },
     "execution_count": 2,
     "metadata": {},
     "output_type": "execute_result"
    }
   ],
   "source": [
    "x"
   ]
  },
  {
   "cell_type": "code",
   "execution_count": 3,
   "id": "655beff2-56cd-4590-ac1f-ba880ca9a4f0",
   "metadata": {},
   "outputs": [
    {
     "data": {
      "text/plain": [
       "true"
      ]
     },
     "execution_count": 3,
     "metadata": {},
     "output_type": "execute_result"
    }
   ],
   "source": [
    "(list? x)"
   ]
  },
  {
   "cell_type": "code",
   "execution_count": 4,
   "id": "8e273643-2d21-45d3-adf3-b0cfdf0aff7e",
   "metadata": {},
   "outputs": [
    {
     "data": {
      "text/plain": [
       "3"
      ]
     },
     "execution_count": 4,
     "metadata": {},
     "output_type": "execute_result"
    }
   ],
   "source": [
    "(count x)"
   ]
  },
  {
   "cell_type": "code",
   "execution_count": 5,
   "id": "f236be1a-6029-45da-afe6-fba19ec4b233",
   "metadata": {},
   "outputs": [
    {
     "data": {
      "text/plain": [
       "+"
      ]
     },
     "execution_count": 5,
     "metadata": {},
     "output_type": "execute_result"
    }
   ],
   "source": [
    "(first x)"
   ]
  },
  {
   "cell_type": "code",
   "execution_count": 6,
   "id": "85d8e9ef-28f2-4497-8f5d-287ef717fd8e",
   "metadata": {},
   "outputs": [
    {
     "data": {
      "text/plain": [
       "true"
      ]
     },
     "execution_count": 6,
     "metadata": {},
     "output_type": "execute_result"
    }
   ],
   "source": [
    "(symbol? (first x))"
   ]
  },
  {
   "cell_type": "code",
   "execution_count": 7,
   "id": "8f39b5db-1ce4-4802-a493-d0e8b871d8ef",
   "metadata": {},
   "outputs": [
    {
     "data": {
      "text/plain": [
       "5"
      ]
     },
     "execution_count": 7,
     "metadata": {},
     "output_type": "execute_result"
    }
   ],
   "source": [
    "(eval x)"
   ]
  },
  {
   "cell_type": "code",
   "execution_count": 8,
   "id": "6b333e8e-9b76-4053-b944-e23c74e43892",
   "metadata": {},
   "outputs": [
    {
     "data": {
      "text/plain": [
       "#'user/m"
      ]
     },
     "execution_count": 8,
     "metadata": {},
     "output_type": "execute_result"
    }
   ],
   "source": [
    "(def m {:one 1 :two 2 :three 3})"
   ]
  },
  {
   "cell_type": "code",
   "execution_count": 9,
   "id": "cdda74bb-e246-4c03-abb2-6b0a27a1971b",
   "metadata": {},
   "outputs": [
    {
     "data": {
      "text/plain": [
       "1"
      ]
     },
     "execution_count": 9,
     "metadata": {},
     "output_type": "execute_result"
    }
   ],
   "source": [
    "(m :one)"
   ]
  },
  {
   "cell_type": "code",
   "execution_count": 10,
   "id": "c2eca351-a301-4eff-b1b1-df0bb7ff711a",
   "metadata": {},
   "outputs": [
    {
     "data": {
      "text/plain": [
       "3"
      ]
     },
     "execution_count": 10,
     "metadata": {},
     "output_type": "execute_result"
    }
   ],
   "source": [
    "(m :three)"
   ]
  },
  {
   "cell_type": "code",
   "execution_count": 11,
   "id": "c7303319-3822-45da-8950-b1bff143442d",
   "metadata": {},
   "outputs": [
    {
     "data": {
      "text/plain": [
       "nil"
      ]
     },
     "execution_count": 11,
     "metadata": {},
     "output_type": "execute_result"
    }
   ],
   "source": [
    "(m :four)"
   ]
  },
  {
   "cell_type": "code",
   "execution_count": 12,
   "id": "39530a51-adea-4389-afbe-efa92071b764",
   "metadata": {},
   "outputs": [
    {
     "data": {
      "text/plain": [
       "true"
      ]
     },
     "execution_count": 12,
     "metadata": {},
     "output_type": "execute_result"
    }
   ],
   "source": [
    "(contains? m :two)"
   ]
  },
  {
   "cell_type": "code",
   "execution_count": 13,
   "id": "effd364c-6874-4632-9504-7afe2d4efd4a",
   "metadata": {},
   "outputs": [
    {
     "data": {
      "text/plain": [
       "false"
      ]
     },
     "execution_count": 13,
     "metadata": {},
     "output_type": "execute_result"
    }
   ],
   "source": [
    "(contains? m :four)"
   ]
  },
  {
   "cell_type": "code",
   "execution_count": 14,
   "id": "ce4bba01-69de-4052-a869-8b095f47ca22",
   "metadata": {},
   "outputs": [
    {
     "data": {
      "text/plain": [
       "nil"
      ]
     },
     "execution_count": 14,
     "metadata": {},
     "output_type": "execute_result"
    }
   ],
   "source": [
    "(first ())"
   ]
  }
 ],
 "metadata": {
  "kernelspec": {
   "display_name": "Clojure (clojupyter=0.3.2=1)",
   "language": "clojure",
   "name": "conda-clojupyter"
  },
  "language_info": {
   "file_extension": ".clj",
   "mimetype": "text/x-clojure",
   "name": "clojure",
   "version": "1.10.1"
  }
 },
 "nbformat": 4,
 "nbformat_minor": 5
}
