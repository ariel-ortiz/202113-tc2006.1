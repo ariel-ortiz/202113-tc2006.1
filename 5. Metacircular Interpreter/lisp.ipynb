{
 "cells": [
  {
   "cell_type": "markdown",
   "id": "2c56bbfd-abb3-40f4-8710-0d73a62a97d3",
   "metadata": {},
   "source": [
    "# Lisp Metacircula Interpreter"
   ]
  },
  {
   "cell_type": "code",
   "execution_count": 1,
   "id": "0919e0ed-a6e2-461e-b162-b7fe0b9a60ee",
   "metadata": {},
   "outputs": [
    {
     "data": {
      "text/plain": [
       "nil"
      ]
     },
     "execution_count": 1,
     "metadata": {},
     "output_type": "execute_result"
    }
   ],
   "source": [
    "(require '[clojure.test :refer [is]])"
   ]
  },
  {
   "cell_type": "code",
   "execution_count": 2,
   "id": "29a678b0-8f8a-4853-9459-7c05911512a4",
   "metadata": {},
   "outputs": [
    {
     "data": {
      "text/plain": [
       "#'user/$eval"
      ]
     },
     "execution_count": 2,
     "metadata": {},
     "output_type": "execute_result"
    }
   ],
   "source": [
    "(declare $eval)"
   ]
  },
  {
   "cell_type": "code",
   "execution_count": 3,
   "id": "af8b343f-a791-49e1-9ee3-7e4d851cb612",
   "metadata": {},
   "outputs": [
    {
     "data": {
      "text/plain": [
       "#'user/make-closure"
      ]
     },
     "execution_count": 3,
     "metadata": {},
     "output_type": "execute_result"
    }
   ],
   "source": [
    "(import 'clojure.lang.IFn)\n",
    "\n",
    "(defrecord Closure [env params body]\n",
    "  IFn\n",
    "  (applyTo [self args]\n",
    "    (let [extended-env (merge env (zipmap params args))]\n",
    "      ($eval body extended-env))))\n",
    "\n",
    "(defn make-closure\n",
    "  [env params body]\n",
    "  (->Closure env params body))"
   ]
  },
  {
   "cell_type": "markdown",
   "id": "d32f4426-7fb0-4434-90df-6359d92a50cd",
   "metadata": {},
   "source": [
    "## Main Interpreter Function\n",
    "\n",
    "### Special Forms in our Lisp Interpreter\n",
    "\n",
    "- `QUOTE: (QUOTE datum)`\n",
    "- `IF: (IF condition then-part else-part)`\n",
    "- `LAMBDA: (LAMBDA (param1 param2 ...) body)`\n",
    "- `LABEL: (LABEL name expr)`"
   ]
  },
  {
   "cell_type": "code",
   "execution_count": 4,
   "id": "c4b1f30e-8bc0-430c-9cb4-a20ebd284945",
   "metadata": {},
   "outputs": [
    {
     "data": {
      "text/plain": [
       "#'user/$eval-variable"
      ]
     },
     "execution_count": 4,
     "metadata": {},
     "output_type": "execute_result"
    }
   ],
   "source": [
    "(defn $eval-variable\n",
    "  [expr env]\n",
    "  (if (contains? env expr)\n",
    "    (env expr)\n",
    "    (throw (RuntimeException. \n",
    "            (str \"Variable \" expr \" not found in current scope!\")))))"
   ]
  },
  {
   "cell_type": "code",
   "execution_count": 5,
   "id": "5d371a8b-29fc-4b7b-99c8-5120d5e01d53",
   "metadata": {},
   "outputs": [
    {
     "data": {
      "text/plain": [
       "#'user/$eval-list"
      ]
     },
     "execution_count": 5,
     "metadata": {},
     "output_type": "execute_result"
    }
   ],
   "source": [
    "(defn $eval-list\n",
    "  [expr env]\n",
    "  (case (first expr)\n",
    "    nil ()\n",
    "    QUOTE (second expr)\n",
    "    IF (let [[_ condition then-part else-part] expr] \n",
    "         (if ($eval condition env)\n",
    "           ($eval then-part env)\n",
    "           ($eval else-part env)))\n",
    "    \n",
    "    ; Ordinary function application\n",
    "    (let [[fun & args] (map #($eval % env) expr)]\n",
    "      (apply fun args))))"
   ]
  },
  {
   "cell_type": "code",
   "execution_count": 6,
   "id": "f7ae2b5c-e84f-43b8-92ec-c127f5ec98a7",
   "metadata": {},
   "outputs": [
    {
     "data": {
      "text/plain": [
       "#'user/$eval"
      ]
     },
     "execution_count": 6,
     "metadata": {},
     "output_type": "execute_result"
    }
   ],
   "source": [
    "(defn $eval\n",
    "  [expr env]\n",
    "  (cond\n",
    "    (symbol? expr) ($eval-variable expr env)\n",
    "    (list? expr) ($eval-list expr env)\n",
    "    :else expr))"
   ]
  },
  {
   "cell_type": "code",
   "execution_count": 7,
   "id": "cfafb1fc-cd1e-4ad2-bc2e-5ba3c240d4d7",
   "metadata": {},
   "outputs": [
    {
     "data": {
      "text/plain": [
       "true"
      ]
     },
     "execution_count": 7,
     "metadata": {},
     "output_type": "execute_result"
    }
   ],
   "source": [
    ";; Test that ordinary values evaluate to themselves.\n",
    "(is (= 42 ($eval 42 {})))\n",
    "(is (= true ($eval true {})))\n",
    "(is (= \"hello\" ($eval \"hello\" {})))\n",
    "(is (= nil ($eval nil {})))"
   ]
  },
  {
   "cell_type": "code",
   "execution_count": 8,
   "id": "1a4e66b4-7185-46a5-ae31-733e65802eb1",
   "metadata": {},
   "outputs": [
    {
     "data": {
      "text/plain": [
       "true"
      ]
     },
     "execution_count": 8,
     "metadata": {},
     "output_type": "execute_result"
    }
   ],
   "source": [
    ";; Test that symbols represent bindings in the given scope (env).\n",
    "(is (= 7 ($eval 'x '{x 7})))\n",
    "(is (= 10 ($eval 'y '{x 7, y 10})))\n",
    "(try\n",
    "  ($eval 'z '{x 7, y 10})\n",
    "  (is false)\n",
    "  (catch RuntimeException e (is true)))"
   ]
  },
  {
   "cell_type": "code",
   "execution_count": 9,
   "id": "cb0c9e1a-6a4f-4897-b52a-ba9d1c335cb4",
   "metadata": {},
   "outputs": [
    {
     "data": {
      "text/plain": [
       "true"
      ]
     },
     "execution_count": 9,
     "metadata": {},
     "output_type": "execute_result"
    }
   ],
   "source": [
    "(is (= 'x ($eval '(QUOTE x) '{x 5})))\n",
    "(is (= '(+ 2 3) ($eval '(QUOTE (+ 2 3)) {})))\n",
    "(is (= 42 ($eval '(QUOTE 42) {})))"
   ]
  },
  {
   "cell_type": "code",
   "execution_count": 10,
   "id": "4b8e2143-6d15-425d-8e26-b32e170c5f06",
   "metadata": {},
   "outputs": [
    {
     "data": {
      "text/plain": [
       "true"
      ]
     },
     "execution_count": 10,
     "metadata": {},
     "output_type": "execute_result"
    }
   ],
   "source": [
    "(is (= 2 ($eval '(IF 1 2 3) {})))\n",
    "(is (= 3 ($eval '(IF nil 2 3) {})))\n",
    "(is (= 10 ($eval '(IF x y z) '{x 5, y 10, z 20})))\n",
    "(is (= 20 ($eval '(IF x y z) '{x false, y 10, z 20})))"
   ]
  },
  {
   "cell_type": "code",
   "execution_count": 11,
   "id": "62d52b6e-36a9-4953-ba57-805fef005140",
   "metadata": {},
   "outputs": [
    {
     "data": {
      "text/plain": [
       "true"
      ]
     },
     "execution_count": 11,
     "metadata": {},
     "output_type": "execute_result"
    }
   ],
   "source": [
    "(is (= 1 ($eval '(CAR (QUOTE (1 2 3))) {'CAR first})))\n",
    "(is (= 'B ($eval '(CAR (CDR (QUOTE (A B C D E)))) {'CAR first, 'CDR rest})))\n",
    "(is (= 16 ($eval '(+ (* 3 2) 5 (- 10 5)) {'+ +, '* *, '- -})))"
   ]
  },
  {
   "cell_type": "code",
   "execution_count": 12,
   "id": "3a536f67-ff93-46da-be6c-0dcffeb57586",
   "metadata": {},
   "outputs": [
    {
     "data": {
      "text/plain": [
       "true"
      ]
     },
     "execution_count": 12,
     "metadata": {},
     "output_type": "execute_result"
    }
   ],
   "source": [
    "(def c (make-closure {'+ +} '(x) '(+ x 1)))\n",
    "(is (= {'+ +} (.env c)))\n",
    "(is (= '(x) (.params c)))\n",
    "(is (= '(+ x 1) (.body c)))\n",
    "(is (= 6 (apply c '(5))))"
   ]
  }
 ],
 "metadata": {
  "kernelspec": {
   "display_name": "Clojure (clojupyter=0.3.2=1)",
   "language": "clojure",
   "name": "conda-clojupyter"
  },
  "language_info": {
   "file_extension": ".clj",
   "mimetype": "text/x-clojure",
   "name": "clojure",
   "version": "1.10.1"
  }
 },
 "nbformat": 4,
 "nbformat_minor": 5
}
