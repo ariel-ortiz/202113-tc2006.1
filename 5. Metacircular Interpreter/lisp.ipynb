{
 "cells": [
  {
   "cell_type": "markdown",
   "id": "2c56bbfd-abb3-40f4-8710-0d73a62a97d3",
   "metadata": {},
   "source": [
    "# Lisp Metacircula Interpreter"
   ]
  },
  {
   "cell_type": "code",
   "execution_count": 1,
   "id": "0919e0ed-a6e2-461e-b162-b7fe0b9a60ee",
   "metadata": {},
   "outputs": [
    {
     "data": {
      "text/plain": [
       "nil"
      ]
     },
     "execution_count": 1,
     "metadata": {},
     "output_type": "execute_result"
    }
   ],
   "source": [
    "(require '[clojure.test :refer [is]])"
   ]
  },
  {
   "cell_type": "markdown",
   "id": "d32f4426-7fb0-4434-90df-6359d92a50cd",
   "metadata": {},
   "source": [
    "## Main Interpreter Function\n",
    "\n",
    "### Special Forms in our Lisp Interpreter\n",
    "\n",
    "- `QUOTE: (QUOTE datum)`\n",
    "- `IF: (IF condition then-part else-part)`\n",
    "- `LAMBDA: (LAMBDA (param1 param2 ...) body)`\n",
    "- `LABEL: (LABEL name expr)`"
   ]
  },
  {
   "cell_type": "code",
   "execution_count": 2,
   "id": "6fc6c49d-28a5-41d0-a93e-b8227be79fd0",
   "metadata": {},
   "outputs": [
    {
     "data": {
      "text/plain": [
       "#'user/$eval"
      ]
     },
     "execution_count": 2,
     "metadata": {},
     "output_type": "execute_result"
    }
   ],
   "source": [
    "(declare $eval)"
   ]
  },
  {
   "cell_type": "code",
   "execution_count": 3,
   "id": "c4b1f30e-8bc0-430c-9cb4-a20ebd284945",
   "metadata": {},
   "outputs": [
    {
     "data": {
      "text/plain": [
       "#'user/$eval-variable"
      ]
     },
     "execution_count": 3,
     "metadata": {},
     "output_type": "execute_result"
    }
   ],
   "source": [
    "(defn $eval-variable\n",
    "  [expr env]\n",
    "  (if (contains? env expr)\n",
    "    (env expr)\n",
    "    (throw (RuntimeException. \n",
    "            (str \"Variable \" expr \" not found in current scope!\")))))"
   ]
  },
  {
   "cell_type": "code",
   "execution_count": 4,
   "id": "5d371a8b-29fc-4b7b-99c8-5120d5e01d53",
   "metadata": {},
   "outputs": [
    {
     "data": {
      "text/plain": [
       "#'user/$eval-list"
      ]
     },
     "execution_count": 4,
     "metadata": {},
     "output_type": "execute_result"
    }
   ],
   "source": [
    "(defn $eval-list\n",
    "  [expr env]\n",
    "  (case (first expr)\n",
    "    nil ()\n",
    "    QUOTE (second expr)\n",
    "    IF (let [[_ condition then-part else-part] expr] \n",
    "         (if ($eval condition env)\n",
    "           ($eval then-part env)\n",
    "           ($eval else-part env)))))"
   ]
  },
  {
   "cell_type": "code",
   "execution_count": 5,
   "id": "f7ae2b5c-e84f-43b8-92ec-c127f5ec98a7",
   "metadata": {},
   "outputs": [
    {
     "data": {
      "text/plain": [
       "#'user/$eval"
      ]
     },
     "execution_count": 5,
     "metadata": {},
     "output_type": "execute_result"
    }
   ],
   "source": [
    "(defn $eval\n",
    "  [expr env]\n",
    "  (cond\n",
    "    (symbol? expr) ($eval-variable expr env)\n",
    "    (list? expr) ($eval-list expr env)\n",
    "    :else expr))"
   ]
  },
  {
   "cell_type": "code",
   "execution_count": 6,
   "id": "cfafb1fc-cd1e-4ad2-bc2e-5ba3c240d4d7",
   "metadata": {},
   "outputs": [
    {
     "data": {
      "text/plain": [
       "true"
      ]
     },
     "execution_count": 6,
     "metadata": {},
     "output_type": "execute_result"
    }
   ],
   "source": [
    ";; Test that ordinary values evaluate to themselves.\n",
    "(is (= 42 ($eval 42 {})))\n",
    "(is (= true ($eval true {})))\n",
    "(is (= \"hello\" ($eval \"hello\" {})))\n",
    "(is (= nil ($eval nil {})))"
   ]
  },
  {
   "cell_type": "code",
   "execution_count": 7,
   "id": "1a4e66b4-7185-46a5-ae31-733e65802eb1",
   "metadata": {},
   "outputs": [
    {
     "data": {
      "text/plain": [
       "true"
      ]
     },
     "execution_count": 7,
     "metadata": {},
     "output_type": "execute_result"
    }
   ],
   "source": [
    ";; Test that symbols represent bindings in the given scope (env).\n",
    "(is (= 7 ($eval 'x '{x 7})))\n",
    "(is (= 10 ($eval 'y '{x 7, y 10})))\n",
    "(try\n",
    "  ($eval 'z '{x 7, y 10})\n",
    "  (is false)\n",
    "  (catch RuntimeException e (is true)))"
   ]
  },
  {
   "cell_type": "code",
   "execution_count": 8,
   "id": "cb0c9e1a-6a4f-4897-b52a-ba9d1c335cb4",
   "metadata": {},
   "outputs": [
    {
     "data": {
      "text/plain": [
       "true"
      ]
     },
     "execution_count": 8,
     "metadata": {},
     "output_type": "execute_result"
    }
   ],
   "source": [
    "(is (= 'x ($eval '(QUOTE x) '{x 5})))\n",
    "(is (= '(+ 2 3) ($eval '(QUOTE (+ 2 3)) {})))\n",
    "(is (= 42 ($eval '(QUOTE 42) {})))"
   ]
  },
  {
   "cell_type": "code",
   "execution_count": 9,
   "id": "4b8e2143-6d15-425d-8e26-b32e170c5f06",
   "metadata": {},
   "outputs": [
    {
     "data": {
      "text/plain": [
       "true"
      ]
     },
     "execution_count": 9,
     "metadata": {},
     "output_type": "execute_result"
    }
   ],
   "source": [
    "(is (= 2 ($eval '(IF 1 2 3) {})))\n",
    "(is (= 3 ($eval '(IF nil 2 3) {})))\n",
    "(is (= 10 ($eval '(IF x y z) '{x 5, y 10, z 20})))\n",
    "(is (= 20 ($eval '(IF x y z) '{x false, y 10, z 20})))"
   ]
  }
 ],
 "metadata": {
  "kernelspec": {
   "display_name": "Clojure (clojupyter=0.3.2=1)",
   "language": "clojure",
   "name": "conda-clojupyter"
  },
  "language_info": {
   "file_extension": ".clj",
   "mimetype": "text/x-clojure",
   "name": "clojure",
   "version": "1.10.1"
  }
 },
 "nbformat": 4,
 "nbformat_minor": 5
}
