{
 "cells": [
  {
   "cell_type": "markdown",
   "metadata": {
    "tags": []
   },
   "source": [
    "# Problem Set #7\n",
    "\n",
    "## Tc2006 Programming Languages\n",
    "\n",
    "October 4, 2021.\n",
    "\n",
    "_Authors of this notebook’s solution:_\n",
    "\n",
    "- TEAM #\n",
    "- Student ID and Name:\n",
    "- Student ID and Name:\n",
    "\n",
    "**Instructions:**  Modify the Lisp metacircular evaluator code built in class in order to solve the following problems. Make sure all the unit tests are passed."
   ]
  },
  {
   "cell_type": "code",
   "execution_count": 2,
   "metadata": {},
   "outputs": [
    {
     "data": {
      "text/plain": [
       "nil"
      ]
     },
     "execution_count": 2,
     "metadata": {},
     "output_type": "execute_result"
    }
   ],
   "source": [
    ";; External function required for this notebook.\n",
    "(require '[clojure.test :refer [is]])"
   ]
  },
  {
   "cell_type": "markdown",
   "metadata": {},
   "source": [
    "## Main Interpreter Function\n",
    "\n",
    "### Special Forms in our Lisp Interpreter\n",
    "\n",
    "- QUOTE: `(QUOTE datum)`\n",
    "- IF: `(IF condition then-part else-part)`\n",
    "- LAMBDA: `(LAMBDA (param1 param2 ...) body)`\n",
    "- LABEL: `(LABEL name expr)`"
   ]
  },
  {
   "cell_type": "code",
   "execution_count": 14,
   "metadata": {},
   "outputs": [
    {
     "data": {
      "text/plain": [
       "#'user/$eval"
      ]
     },
     "execution_count": 14,
     "metadata": {},
     "output_type": "execute_result"
    }
   ],
   "source": [
    "(declare $eval)\n",
    "\n",
    "(import 'clojure.lang.IFn)\n",
    "\n",
    "(defrecord Closure [env params body]\n",
    "  IFn\n",
    "  (applyTo [self args]\n",
    "    (let [extended-env (merge @env (zipmap params args))]\n",
    "      ($eval body extended-env))))\n",
    "\n",
    "(defn make-closure\n",
    "  [env params body]\n",
    "  (->Closure (atom env) params body))\n",
    "\n",
    "(defn set-closure-env!\n",
    "  [closure label]\n",
    "  (swap! (.env closure)\n",
    "         #(assoc % label closure)))\n",
    "\n",
    "(defn $eval-variable\n",
    "  [expr env]\n",
    "  (if (contains? env expr)\n",
    "    (env expr)\n",
    "    (throw (RuntimeException. \n",
    "            (str \"Variable \" expr \" not found in current scope!\")))))\n",
    "\n",
    "(defn $eval-if\n",
    "  [expr env]\n",
    "  (let [[_ condition then-part else-part] expr] \n",
    "    (if ($eval condition env)\n",
    "      ($eval then-part env)\n",
    "      ($eval else-part env))))\n",
    "\n",
    "(defn $eval-fun-apply\n",
    "  [expr env]\n",
    "  (let [[fun & args] (map #($eval % env) expr)]\n",
    "    (apply fun args)))\n",
    "\n",
    "(defn $eval-lambda\n",
    "  [expr env]\n",
    "  (let [[_ params body] expr]\n",
    "    (make-closure env params body)))\n",
    "\n",
    "(defn $eval-label\n",
    "  [expr env]\n",
    "  (let [[_ label lambda] expr\n",
    "        closure ($eval lambda env)]\n",
    "    (set-closure-env! closure label)\n",
    "    closure))\n",
    "\n",
    "(defn $eval-do\n",
    "  [expr env]\n",
    "  (loop [exprs (rest expr)\n",
    "         last-result nil]\n",
    "    (if (empty? exprs)\n",
    "      last-result\n",
    "      (recur (rest exprs)\n",
    "             ($eval (first exprs) env)))))\n",
    "\n",
    "(defn $eval-let\n",
    "  [expr env]\n",
    "  (let [[_ [variable var-expr] body] expr\n",
    "        value ($eval var-expr env)\n",
    "        extended-env (assoc env variable value)]\n",
    "    ($eval body extended-env)))\n",
    "      \n",
    "(defn $eval-list\n",
    "  [expr env]\n",
    "  (case (first expr)\n",
    "    nil ()\n",
    "    QUOTE (second expr)\n",
    "    IF ($eval-if expr env)\n",
    "    LAMBDA ($eval-lambda expr env)\n",
    "    LABEL ($eval-label expr env)\n",
    "    DO ($eval-do expr env)\n",
    "    LET ($eval-let expr env)\n",
    "    ($eval-fun-apply expr env)))\n",
    "\n",
    "(defn $eval\n",
    "  [expr env]\n",
    "  (cond\n",
    "    (symbol? expr) ($eval-variable expr env)\n",
    "    (list? expr) ($eval-list expr env)\n",
    "    :else expr))"
   ]
  },
  {
   "cell_type": "markdown",
   "metadata": {},
   "source": [
    "## Unit Tests"
   ]
  },
  {
   "cell_type": "code",
   "execution_count": 4,
   "metadata": {},
   "outputs": [
    {
     "data": {
      "text/plain": [
       "true"
      ]
     },
     "execution_count": 4,
     "metadata": {},
     "output_type": "execute_result"
    }
   ],
   "source": [
    ";; Test that ordinary values evaluate to themselves.\n",
    "(is (= 42 ($eval 42 {})))\n",
    "(is (= true ($eval true {})))\n",
    "(is (= \"hello\" ($eval \"hello\" {})))\n",
    "(is (= nil ($eval nil {})))"
   ]
  },
  {
   "cell_type": "code",
   "execution_count": 5,
   "metadata": {},
   "outputs": [
    {
     "data": {
      "text/plain": [
       "true"
      ]
     },
     "execution_count": 5,
     "metadata": {},
     "output_type": "execute_result"
    }
   ],
   "source": [
    ";; Test that symbols represent bindings in the given scope (env).\n",
    "(is (= 7 ($eval 'x '{x 7})))\n",
    "(is (= 10 ($eval 'y '{x 7, y 10})))\n",
    "(try\n",
    "  ($eval 'z '{x 7, y 10})\n",
    "  (is false)\n",
    "  (catch RuntimeException e (is true)))"
   ]
  },
  {
   "cell_type": "code",
   "execution_count": 6,
   "metadata": {},
   "outputs": [
    {
     "data": {
      "text/plain": [
       "true"
      ]
     },
     "execution_count": 6,
     "metadata": {},
     "output_type": "execute_result"
    }
   ],
   "source": [
    ";;; Unit tests for QUOTE special form\n",
    "(is (= 'x ($eval '(QUOTE x) '{x 5})))\n",
    "(is (= '(+ 2 3) ($eval '(QUOTE (+ 2 3)) {})))\n",
    "(is (= 42 ($eval '(QUOTE 42) {})))"
   ]
  },
  {
   "cell_type": "code",
   "execution_count": 7,
   "metadata": {},
   "outputs": [
    {
     "data": {
      "text/plain": [
       "true"
      ]
     },
     "execution_count": 7,
     "metadata": {},
     "output_type": "execute_result"
    }
   ],
   "source": [
    ";;; Unit tests for IF special form\n",
    "(is (= 2 ($eval '(IF 1 2 3) {})))\n",
    "(is (= 3 ($eval '(IF nil 2 3) {})))\n",
    "(is (= 10 ($eval '(IF x y z) '{x 5, y 10, z 20})))\n",
    "(is (= 20 ($eval '(IF x y z) '{x false, y 10, z 20})))"
   ]
  },
  {
   "cell_type": "code",
   "execution_count": 8,
   "metadata": {},
   "outputs": [
    {
     "data": {
      "text/plain": [
       "true"
      ]
     },
     "execution_count": 8,
     "metadata": {},
     "output_type": "execute_result"
    }
   ],
   "source": [
    ";;; Unit tests for function application\n",
    "(is (= 1 ($eval '(CAR (QUOTE (1 2 3))) {'CAR first})))\n",
    "(is (= 'B ($eval '(CAR (CDR (QUOTE (A B C D E)))) {'CAR first, 'CDR rest})))\n",
    "(is (= 16 ($eval '(+ (* 3 2) 5 (- 10 5)) {'+ +, '* *, '- -})))"
   ]
  },
  {
   "cell_type": "code",
   "execution_count": 9,
   "metadata": {},
   "outputs": [
    {
     "data": {
      "text/plain": [
       "true"
      ]
     },
     "execution_count": 9,
     "metadata": {},
     "output_type": "execute_result"
    }
   ],
   "source": [
    ";;; Unit tests for the make-closure function\n",
    "(def c (make-closure {'+ +} '(x) '(+ x 1)))\n",
    "(is (= {'+ +} @(.env c)))\n",
    "(is (= '(x) (.params c)))\n",
    "(is (= '(+ x 1) (.body c)))\n",
    "(is (= 6 (apply c '(5))))"
   ]
  },
  {
   "cell_type": "code",
   "execution_count": 10,
   "metadata": {},
   "outputs": [
    {
     "data": {
      "text/plain": [
       "true"
      ]
     },
     "execution_count": 10,
     "metadata": {},
     "output_type": "execute_result"
    }
   ],
   "source": [
    ";;; Unit tests for the LAMBDA special form\n",
    "(is (= 6 ($eval '((LAMBDA (X) (PLUS X 1)) 5) {'PLUS +})))\n",
    "(is (= 15 ($eval '((LAMBDA (X Y)\n",
    "                    (* X (+ Y 1)))\n",
    "                  3\n",
    "                  4)\n",
    "                {'+ +, '* *})))\n",
    "(is (= 42 ($eval '((LAMBDA () 42)) {})))\n",
    "(is (= 8 ($eval '(((LAMBDA (X)\n",
    "                     (LAMBDA (Y) \n",
    "                       (+ X Y)))\n",
    "                   5)\n",
    "                  3)\n",
    "                {'+ +})))\n",
    "(is (= 8 ($eval '((LAMBDA (F X) \n",
    "                    (F (F (F X))))\n",
    "                  (LAMBDA (X) (* X 2))\n",
    "                  1)\n",
    "                {'* *})))"
   ]
  },
  {
   "cell_type": "code",
   "execution_count": 11,
   "metadata": {},
   "outputs": [
    {
     "data": {
      "text/plain": [
       "true"
      ]
     },
     "execution_count": 11,
     "metadata": {},
     "output_type": "execute_result"
    }
   ],
   "source": [
    ";;; Unit tests for the LABEL special form\n",
    "(is (= '(A A B B C C D D) \n",
    "       ($eval '((LABEL DUP (LAMBDA (X)\n",
    "                             (IF (NULL? X)\n",
    "                               ()\n",
    "                               (CONS (CAR X)\n",
    "                                     (CONS (CAR X)\n",
    "                                           (DUP (CDR X)))))))\n",
    "                (QUOTE (A B C D)))\n",
    "              {'NULL? empty?\n",
    "               'CONS cons\n",
    "               'CAR first\n",
    "               'CDR rest})))\n",
    "(is (= 120 ($eval '((LABEL FACT (LAMBDA (N)\n",
    "                                  (IF (ZERO? N)\n",
    "                                    1\n",
    "                                    (* N (FACT (- N 1))))))\n",
    "                    5)\n",
    "                  {'* *\n",
    "                   'ZERO? zero?\n",
    "                   '- -})))"
   ]
  },
  {
   "cell_type": "markdown",
   "metadata": {},
   "source": [
    "---\n",
    "\n",
    "## Problem 1\n",
    "\n",
    "Add to the Lisp interpreter the `DO` special form, which has the following syntax: \n",
    "\n",
    "$$\n",
    "\\texttt{(DO } \\mathit{exp}_1 \\; \\mathit{exp}_2 \\; \\cdots \\; \\mathit{exp}_n \\texttt{)}\n",
    "$$\n",
    "\n",
    "where every $\\mathit{exp}_i$ is an expression. This construct behaves like its Clojure counterpart of the same name: it evaluates each expression in order from left to right (most likely for their side effects, such as printing), and returns the result of $\\mathit{exp}_n$ (the last expression) or `nil` if there are no expressions.\n",
    "\n",
    "Example:\n",
    "\n",
    "    ($eval '(DO (PRN (+ -2 (+ 1 2)))\n",
    "                (PRN (+ 1 1))\n",
    "                (PRN 3)\n",
    "                (+ 2 2))\n",
    "           {'+ +\n",
    "            'PRN prn})\n",
    "    => 4\n",
    "   \n",
    "Output:\n",
    "\n",
    "    1\n",
    "    2\n",
    "    3"
   ]
  },
  {
   "cell_type": "code",
   "execution_count": 13,
   "metadata": {},
   "outputs": [
    {
     "data": {
      "text/plain": [
       "true"
      ]
     },
     "execution_count": 13,
     "metadata": {},
     "output_type": "execute_result"
    }
   ],
   "source": [
    ";;; Unit tests:\n",
    "(is (nil? ($eval '(DO)\n",
    "                 {})))\n",
    "(is (= 3\n",
    "       ($eval '(DO (+ 1 2))\n",
    "              {'+ +})))\n",
    "(is (= 10\n",
    "       ($eval '(DO (+ 2 5)\n",
    "                   (- 2 5)\n",
    "                   (/ 2 5)\n",
    "                   (* 2 5))\n",
    "              {'+ +\n",
    "               '- -\n",
    "               '/ /\n",
    "               '* *})))\n",
    "(is (= \"7-32/510\"\n",
    "       (with-out-str\n",
    "         ($eval '(DO (PR (+ 2 5))\n",
    "                     (PR (- 2 5))\n",
    "                     (PR (/ 2 5))\n",
    "                     (PR (* 2 5)))\n",
    "                {'PR pr\n",
    "                 '+ +\n",
    "                 '- -\n",
    "                 '/ /\n",
    "                 '* *}))))\n",
    "(is (= (let [nl (System/lineSeparator)]\n",
    "         (str \"1\" nl \"2\" nl \"3\" nl))\n",
    "       (with-out-str\n",
    "         ($eval '(DO (PRN (+ -2 (+ 1 2)))\n",
    "                     (PRN (+ 1 1))\n",
    "                     (PRN 3)\n",
    "                     (+ 2 2))\n",
    "                {'+ +\n",
    "                 'PRN prn}))))\n",
    "(is (= (let [nl (System/lineSeparator)]\n",
    "         (str \"One potato,\" nl\n",
    "              \"two potatoes,\" nl\n",
    "              \"three potatoes,\" nl\n",
    "              \"four.\" nl))\n",
    "       (with-out-str\n",
    "         ($eval '(DO (PRINTLN \"One potato,\")\n",
    "                     (PRINTLN \"two potatoes,\")\n",
    "                     (PRINTLN \"three potatoes,\")\n",
    "                     (PRINTLN \"four.\"))\n",
    "                {'PRINTLN println}))))"
   ]
  },
  {
   "cell_type": "markdown",
   "metadata": {},
   "source": [
    "---\n",
    "\n",
    "## Problem 2\n",
    "\n",
    "Add to the Lisp interpreter the `LET` special form, which has the following syntax: \n",
    "\n",
    "$$\n",
    "\\texttt{(LET}\\texttt{ (}\\mathit{var}\\texttt{ }\\mathit{expr}\\texttt{) } \\mathit{body}\\texttt{)}\n",
    "$$\n",
    "\n",
    "where $\\mathit{var}$ is a symbol, while $\\mathit{expr}$ and $\\mathit{body}$ are expressions. This construct evaluates and returns the result of $\\mathit{body}$ using an extended environment where $\\mathit{var}$ is bound with the result of evaluating $\\mathit{expr}$. In other words, it's equivalent to:\n",
    "\n",
    "$$\n",
    "\\texttt{((LAMBDA}\\texttt{ (}\\mathit{var}\\texttt{) }\\mathit{body}\\texttt{) } \\mathit{expr}\\texttt{)}\n",
    "$$\n",
    "\n",
    "Examples:\n",
    "\n",
    "    ($eval '(LET (x 6)\n",
    "              (* 7 x))\n",
    "           {'* *})\n",
    "    => 42\n",
    "\n",
    "    ($eval '(LET (x (* 2 5))\n",
    "              (LET (y (+ 1 x))\n",
    "                (+ 1 (* y x))))\n",
    "           {'+ +\n",
    "            '* *})\n",
    "    => 111"
   ]
  },
  {
   "cell_type": "code",
   "execution_count": 15,
   "metadata": {},
   "outputs": [
    {
     "data": {
      "text/plain": [
       "true"
      ]
     },
     "execution_count": 15,
     "metadata": {},
     "output_type": "execute_result"
    }
   ],
   "source": [
    ";;; Unit tests:\n",
    "(is (= 7\n",
    "      ($eval '(LET (a 7) a) {})))\n",
    "(is (= 42\n",
    "      ($eval '(LET (x 6)\n",
    "                (* 7 x))\n",
    "        {'* *})))\n",
    "(is (= 111\n",
    "      ($eval '(LET (x (* 2 5))\n",
    "                (LET (y (+ 1 x))\n",
    "                  (+ 1 (* y x))))\n",
    "        {'+ +\n",
    "         '* *})))\n",
    "(is (= 60\n",
    "      ($eval '((LAMBDA (x y)\n",
    "                 (LET (y (+ 1 y))\n",
    "                   (* x y)))\n",
    "                10\n",
    "                5)\n",
    "        {'* *\n",
    "         '+ +})))\n",
    "(is (= '(a b c d)\n",
    "      ($eval '(LET (one (QUOTE (c d)))\n",
    "                (LET (two (CONS (QUOTE b) one))\n",
    "                  (LET (three (CONS (QUOTE a) two))\n",
    "                    three)))\n",
    "        {'CONS cons})))\n",
    "(is (= 8\n",
    "      ($eval '(((LAMBDA (x y)\n",
    "                  (LET (z (LET (r) (* x y)) r)\n",
    "                    (LAMBDA (w)\n",
    "                      (LET (t (+ x (LET (a y) a) z w))\n",
    "                        (LET (t t) t))))) 1 2) 3)\n",
    "        {'* *\n",
    "         '+ +})))"
   ]
  },
  {
   "cell_type": "markdown",
   "metadata": {},
   "source": [
    "---\n",
    "\n",
    "## Problem 3\n",
    "\n",
    "Add to the Lisp interpreter the `DOTIMES` special form, which has the following syntax: \n",
    "\n",
    "$$\n",
    "\\texttt{(DOTIMES}\\texttt{ (}\\mathit{var}\\texttt{ }\\mathit{count}\\texttt{) } \\mathit{body}\\texttt{)}\n",
    "$$\n",
    "\n",
    "where $\\mathit{var}$ is a symbol, while $\\mathit{count}$ and $\\mathit{body}$ are expressions. This construct executes $\\mathit{body}$ (which must perform some side effect operation, typically printing) once for each integer from 0 (inclusive) to $\\mathit{count}$ (exclusive), while binding the variable $\\mathit{var}$ to the integer for the current iteration. This special form always returns `nil`. \n",
    "\n",
    "Example:\n",
    "\n",
    "    ($eval '(DOTIMES (i (+ 2 2))\n",
    "              (PRINTLN \"Line\" i))\n",
    "           {'PRINTLN println, '+ +})\n",
    "    \n",
    "    ($eval '(DOTIMES (x 10)\n",
    "              (PR x))\n",
    "           {'PR pr})\n",
    "   \n",
    "Output:\n",
    "\n",
    "    Line 0\n",
    "    Line 1\n",
    "    Line 2\n",
    "    Line 3\n",
    "\n",
    "    0123456789"
   ]
  },
  {
   "cell_type": "code",
   "execution_count": null,
   "metadata": {},
   "outputs": [],
   "source": [
    ";;; Unit tests:\n",
    "(is (= \"\"\n",
    "       (with-out-str ($eval '(DOTIMES (x 0)\n",
    "                               (PRINTLN x))\n",
    "                            {'PRINTLN println}))))\n",
    "(is (= \"0123456789\"\n",
    "       (with-out-str ($eval '(DOTIMES (x 10)\n",
    "                               (PR x))\n",
    "                            {'PR pr}))))\n",
    "(is (= (let [nl (System/lineSeparator)]\n",
    "         (str \"Line 0\" nl \"Line 1\" nl \"Line 2\" nl \"Line 3\" nl))\n",
    "       (with-out-str ($eval '(DOTIMES (i (+ 2 2))\n",
    "                               (PRINTLN \"Line\" i))\n",
    "                            {'PRINTLN println, '+ +}))))\n",
    "(is (= \"1-4-9-16-25-36-49-64-81-100-\"\n",
    "       (with-out-str ($eval '(DOTIMES (some-var (* 2 5))\n",
    "                               (PRINTF \"%d-\"\n",
    "                                       ((LAMBDA (x) (* x x))\n",
    "                                        (INC some-var))))\n",
    "                            {'PRINTF printf, '* *, 'INC inc}))))\n",
    "(is (= (str \"**************************************************\"\n",
    "            \"**************************************************\")\n",
    "       (with-out-str ($eval '(DOTIMES (mxyzptlk (* 2 2 5 5))\n",
    "                               (PRINT \"*\"))\n",
    "                            {'PRINT print, '* *}))))"
   ]
  },
  {
   "cell_type": "markdown",
   "metadata": {},
   "source": [
    "---\n",
    "\n",
    "## Problem 4\n",
    "\n",
    "Add to the Lisp interpreter the `COND` special form, which has the following syntax: \n",
    "\n",
    "$$\n",
    "\\texttt{(COND }\n",
    "  \\mathit{test}_1 \\; \\mathit{exp}_1 \\;\n",
    "  \\mathit{test}_2 \\; \\mathit{exp}_2 \\;\n",
    "  \\cdots \\;\n",
    "  \\mathit{test}_n \\; \\mathit{exp}_n\n",
    "  \\texttt{)}\n",
    "$$\n",
    "\n",
    "where every $\\mathit{test}_i$ and $\\mathit{exp}_i$ is an expression. This construct, like its Clojure counterpart of the same name, takes a sequence of $\\mathit{test}$/$\\mathit{exp}$ pairs. It evaluates each $\\mathit{test}$ one at a time. If a $\\mathit{test}$ returns logical true (any value not equal to `nil` nor `false`), `COND` evaluates and returns the value of the corresponding $\\mathit{exp}$ and doesn't evaluate any of the other $\\mathit{test}$s or $\\mathit{exp}$s. If there are no tests that evaluate to true, `COND` returns `nil`.\n",
    "\n",
    "You can alternatively think of `COND` as being equivalent to: \n",
    "\n",
    "$$\n",
    "\\texttt{(if } \\mathit{test}_1 \\; \\mathit{exp}_1 \\;\n",
    "\\texttt{(if } \\mathit{test}_2 \\; \\mathit{exp}_2 \\;\n",
    "\\cdots \\;\n",
    "\\texttt{(if } \\mathit{text}_n \\; \\mathit{exp}_n \\; \\texttt{nil)}\n",
    "\\cdots\n",
    "\\texttt{))}\n",
    "$$\n",
    "\n",
    "Example:\n",
    "\n",
    "    ($eval '(COND\n",
    "              (= x 1) (QUOTE one)\n",
    "              (= x 2) (QUOTE two)\n",
    "              (= x 3) (QUOTE three)\n",
    "              (= x 4) (QUOTE four)\n",
    "              true    (QUOTE other))\n",
    "              {'x 3\n",
    "               '= =})\n",
    "    => three"
   ]
  },
  {
   "cell_type": "code",
   "execution_count": null,
   "metadata": {},
   "outputs": [],
   "source": [
    ";;; Unit tests:\n",
    "(is (nil? ($eval '(COND)\n",
    "                 {})))\n",
    "(is (= 2\n",
    "       ($eval '(COND\n",
    "                 1 2)\n",
    "              {})))\n",
    "(is (nil? ($eval '(COND\n",
    "                    false 2)\n",
    "                 {})))\n",
    "(is (= 'three\n",
    "       ($eval '(COND\n",
    "                 (= x 1) (QUOTE one)\n",
    "                 (= x 2) (QUOTE two)\n",
    "                 (= x 3) (QUOTE three)\n",
    "                 (= x 4) (QUOTE four)\n",
    "                 true    (QUOTE other))\n",
    "              {'x 3\n",
    "               '= =})))\n",
    "(is (= 'other\n",
    "       ($eval '(COND\n",
    "                 (= x 1) (QUOTE one)\n",
    "                 (= x 2) (QUOTE two)\n",
    "                 (= x 3) (QUOTE three)\n",
    "                 (= x 4) (QUOTE four)\n",
    "                 true    (QUOTE other))\n",
    "              {'x 5\n",
    "               '= =})))\n",
    "(is (nil? ($eval '(COND\n",
    "                    (= x 1) (QUOTE one)\n",
    "                    (= x 2) (QUOTE two)\n",
    "                    (= x 3) (QUOTE three)\n",
    "                    (= x 4) (QUOTE four))\n",
    "                 {'x 5\n",
    "                  '= =})))\n",
    "(is (= \"Lannister\"\n",
    "       (with-out-str\n",
    "         ($eval '(COND\n",
    "                   (< 4 got) (PRINT \"Targaryen\")\n",
    "                   (< 3 got) (PRINT \"Stark\")\n",
    "                   (< 2 got) (PRINT \"Tully\")\n",
    "                   (< 1 got) (PRINT \"Lannister\")\n",
    "                   true      (PRINT \"Tyrell\"))\n",
    "                {'got 2\n",
    "                 '< <\n",
    "                 'PRINT print}))))"
   ]
  }
 ],
 "metadata": {
  "kernelspec": {
   "display_name": "Clojure (clojupyter=0.3.2=1)",
   "language": "clojure",
   "name": "conda-clojupyter"
  },
  "language_info": {
   "file_extension": ".clj",
   "mimetype": "text/x-clojure",
   "name": "clojure",
   "version": "1.10.1"
  }
 },
 "nbformat": 4,
 "nbformat_minor": 4
}
