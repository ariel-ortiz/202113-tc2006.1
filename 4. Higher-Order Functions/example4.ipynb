{
 "cells": [
  {
   "cell_type": "markdown",
   "id": "7902d4d1-a0a7-4744-a432-ee3ae6482caf",
   "metadata": {},
   "source": [
    "# Higher-Order Function Examples"
   ]
  },
  {
   "cell_type": "code",
   "execution_count": 1,
   "id": "5e49c4d6-1345-4ea1-aa07-65139ee255b9",
   "metadata": {},
   "outputs": [
    {
     "data": {
      "text/plain": [
       "#'user/compose"
      ]
     },
     "execution_count": 1,
     "metadata": {},
     "output_type": "execute_result"
    }
   ],
   "source": [
    "(defn compose [f g]\n",
    "  (fn [x]\n",
    "    (f (g x))))"
   ]
  },
  {
   "cell_type": "code",
   "execution_count": 2,
   "id": "0fb85cc4-75b7-44fd-81e0-5d6a878e6bee",
   "metadata": {},
   "outputs": [
    {
     "data": {
      "text/plain": [
       "#'user/f1"
      ]
     },
     "execution_count": 2,
     "metadata": {},
     "output_type": "execute_result"
    }
   ],
   "source": [
    "(defn f1 [x] (* 3 x))"
   ]
  },
  {
   "cell_type": "code",
   "execution_count": 3,
   "id": "cb51d10d-dee1-4e46-b7c8-6afab82bcd93",
   "metadata": {},
   "outputs": [
    {
     "data": {
      "text/plain": [
       "#'user/f2"
      ]
     },
     "execution_count": 3,
     "metadata": {},
     "output_type": "execute_result"
    }
   ],
   "source": [
    "(defn f2 [x] (+ 2 x))"
   ]
  },
  {
   "cell_type": "code",
   "execution_count": 4,
   "id": "897dad9b-8879-4af7-a8b1-55eed8289aa8",
   "metadata": {},
   "outputs": [
    {
     "data": {
      "text/plain": [
       "#'user/f3"
      ]
     },
     "execution_count": 4,
     "metadata": {},
     "output_type": "execute_result"
    }
   ],
   "source": [
    "(def f3 (compose f1 f2))"
   ]
  },
  {
   "cell_type": "code",
   "execution_count": 5,
   "id": "337fc8e9-9e2e-435d-8643-34ae0e45a46a",
   "metadata": {},
   "outputs": [
    {
     "data": {
      "text/plain": [
       "6"
      ]
     },
     "execution_count": 5,
     "metadata": {},
     "output_type": "execute_result"
    }
   ],
   "source": [
    "(f1 2)"
   ]
  },
  {
   "cell_type": "code",
   "execution_count": 6,
   "id": "45dbf560-36ea-4dd4-9924-e4f9aea56f14",
   "metadata": {},
   "outputs": [
    {
     "data": {
      "text/plain": [
       "4"
      ]
     },
     "execution_count": 6,
     "metadata": {},
     "output_type": "execute_result"
    }
   ],
   "source": [
    "(f2 2)"
   ]
  },
  {
   "cell_type": "code",
   "execution_count": 7,
   "id": "c31adadf-c13a-4abd-a1ca-7315fee3a529",
   "metadata": {},
   "outputs": [
    {
     "data": {
      "text/plain": [
       "12"
      ]
     },
     "execution_count": 7,
     "metadata": {},
     "output_type": "execute_result"
    }
   ],
   "source": [
    "(f3 2)"
   ]
  },
  {
   "cell_type": "code",
   "execution_count": 8,
   "id": "afa26045-ad9d-4d0c-9e3d-8f0364340989",
   "metadata": {},
   "outputs": [
    {
     "data": {
      "text/plain": [
       "#'user/f4"
      ]
     },
     "execution_count": 8,
     "metadata": {},
     "output_type": "execute_result"
    }
   ],
   "source": [
    "(def f4 (compose f2 f1))"
   ]
  },
  {
   "cell_type": "code",
   "execution_count": 9,
   "id": "d67f911c-4776-4e17-8a23-e91c179802a4",
   "metadata": {},
   "outputs": [
    {
     "data": {
      "text/plain": [
       "8"
      ]
     },
     "execution_count": 9,
     "metadata": {},
     "output_type": "execute_result"
    }
   ],
   "source": [
    "(f4 2)"
   ]
  },
  {
   "cell_type": "code",
   "execution_count": 14,
   "id": "541cc117-35c5-4d0c-b963-87e2a6176c0d",
   "metadata": {},
   "outputs": [
    {
     "data": {
      "text/plain": [
       "#'user/f5"
      ]
     },
     "execution_count": 14,
     "metadata": {},
     "output_type": "execute_result"
    }
   ],
   "source": [
    "(def f5 (compose f3 f4))"
   ]
  },
  {
   "cell_type": "code",
   "execution_count": 15,
   "id": "291dafc4-a761-4706-990d-b5478c16cc58",
   "metadata": {},
   "outputs": [
    {
     "data": {
      "text/plain": [
       "30"
      ]
     },
     "execution_count": 15,
     "metadata": {},
     "output_type": "execute_result"
    }
   ],
   "source": [
    "(f5 2)"
   ]
  },
  {
   "cell_type": "code",
   "execution_count": 16,
   "id": "a9d00bed-ebe9-42e4-8dff-3f99ce22c515",
   "metadata": {},
   "outputs": [
    {
     "data": {
      "text/plain": [
       "#'user/t"
      ]
     },
     "execution_count": 16,
     "metadata": {},
     "output_type": "execute_result"
    }
   ],
   "source": [
    "(defn t\n",
    "  [a b c d e]\n",
    "  (* (+ a b)\n",
    "     (/ c d)\n",
    "     e))"
   ]
  },
  {
   "cell_type": "code",
   "execution_count": 18,
   "id": "349821ce-987f-4fae-8634-c1eff4c13c77",
   "metadata": {},
   "outputs": [
    {
     "data": {
      "text/plain": [
       "45/4"
      ]
     },
     "execution_count": 18,
     "metadata": {},
     "output_type": "execute_result"
    }
   ],
   "source": [
    "(t 1 2 3 4 5)"
   ]
  },
  {
   "cell_type": "code",
   "execution_count": 17,
   "id": "96158472-529b-4874-9ca5-bc27d8c1beb3",
   "metadata": {},
   "outputs": [
    {
     "data": {
      "text/plain": [
       "#'user/t-curry"
      ]
     },
     "execution_count": 17,
     "metadata": {},
     "output_type": "execute_result"
    }
   ],
   "source": [
    ";; Currying\n",
    "(defn t-curry [a]\n",
    "  (fn [b]\n",
    "    (fn [c]\n",
    "      (fn [d]\n",
    "        (fn [e]\n",
    "          (* (+ a b)\n",
    "             (/ c d)\n",
    "             e))))))"
   ]
  },
  {
   "cell_type": "code",
   "execution_count": 23,
   "id": "3df5d296-ac5f-47a8-84e0-9ed2a082a7ac",
   "metadata": {},
   "outputs": [
    {
     "data": {
      "text/plain": [
       "45/4"
      ]
     },
     "execution_count": 23,
     "metadata": {},
     "output_type": "execute_result"
    }
   ],
   "source": [
    "(((((t-curry 1) 2) 3) 4) 5)"
   ]
  },
  {
   "cell_type": "code",
   "execution_count": 27,
   "id": "2400c1af-1563-47d7-ab92-7419829aa8f8",
   "metadata": {},
   "outputs": [
    {
     "data": {
      "text/plain": [
       "true"
      ]
     },
     "execution_count": 27,
     "metadata": {},
     "output_type": "execute_result"
    }
   ],
   "source": [
    "((comp pos? inc dec (fn [x] (* 2 x))) 5)"
   ]
  },
  {
   "cell_type": "code",
   "execution_count": null,
   "id": "01974c3f-965f-4b03-a2ca-d8dee052a69a",
   "metadata": {},
   "outputs": [],
   "source": []
  }
 ],
 "metadata": {
  "kernelspec": {
   "display_name": "Clojure (clojupyter=0.3.2=1)",
   "language": "clojure",
   "name": "conda-clojupyter"
  },
  "language_info": {
   "file_extension": ".clj",
   "mimetype": "text/x-clojure",
   "name": "clojure",
   "version": "1.10.1"
  }
 },
 "nbformat": 4,
 "nbformat_minor": 5
}
