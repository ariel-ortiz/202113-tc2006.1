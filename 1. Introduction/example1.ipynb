{
 "cells": [
  {
   "cell_type": "markdown",
   "id": "d848e66c-e9e5-41b6-a729-95dc75aab941",
   "metadata": {},
   "source": [
    "# Example of a Jupyter Notebook\n",
    "\n",
    "Some _explanatory_ **text**.\n",
    "\n",
    "A LaTeX formula: $ax^2 + bx + c = 0$"
   ]
  },
  {
   "cell_type": "markdown",
   "id": "b7f83309-c237-42f1-ba87-c7368905b26b",
   "metadata": {},
   "source": [
    "A simple number:"
   ]
  },
  {
   "cell_type": "code",
   "execution_count": 1,
   "id": "4aa42de1-435d-4bf8-a7b4-1513017105e8",
   "metadata": {},
   "outputs": [
    {
     "data": {
      "text/plain": [
       "42"
      ]
     },
     "execution_count": 1,
     "metadata": {},
     "output_type": "execute_result"
    }
   ],
   "source": [
    "42"
   ]
  },
  {
   "cell_type": "markdown",
   "id": "ea20c434-fa05-4eed-806f-27216750f78a",
   "metadata": {},
   "source": [
    "A simple arthmetic expression:"
   ]
  },
  {
   "cell_type": "code",
   "execution_count": 2,
   "id": "0f681f93-3d10-4e30-9e57-26df3bf6631c",
   "metadata": {},
   "outputs": [
    {
     "data": {
      "text/plain": [
       "15"
      ]
     },
     "execution_count": 2,
     "metadata": {},
     "output_type": "execute_result"
    }
   ],
   "source": [
    "; 1 + 2 + 3 + 4 + 5\n",
    "(+ 1 2 3 4 5)"
   ]
  },
  {
   "cell_type": "markdown",
   "id": "129dc566-e320-4b9a-a110-876fe727a209",
   "metadata": {},
   "source": [
    "Addition and multiplication functiones. Note that there is no implicit operator precedence:"
   ]
  },
  {
   "cell_type": "code",
   "execution_count": 3,
   "id": "dd171ed7-7907-47fc-a737-3945f82e14fb",
   "metadata": {},
   "outputs": [
    {
     "data": {
      "text/plain": [
       "7"
      ]
     },
     "execution_count": 3,
     "metadata": {},
     "output_type": "execute_result"
    }
   ],
   "source": [
    "; 1 + 2 * 3\n",
    "(+ 1 (* 2 3))"
   ]
  },
  {
   "cell_type": "markdown",
   "id": "b00f1238-e2e2-46e9-9867-ec055b96fa5c",
   "metadata": {},
   "source": [
    "Changing the order of evaluation:"
   ]
  },
  {
   "cell_type": "code",
   "execution_count": 4,
   "id": "48b505d0-1d43-49fd-98a9-3bfa9617602d",
   "metadata": {},
   "outputs": [
    {
     "data": {
      "text/plain": [
       "9"
      ]
     },
     "execution_count": 4,
     "metadata": {},
     "output_type": "execute_result"
    }
   ],
   "source": [
    "; (1 + 2) * 3\n",
    "(* (+ 1 2) 3)"
   ]
  },
  {
   "cell_type": "markdown",
   "id": "ea288898-1989-49e0-b0fd-21c048343ee1",
   "metadata": {},
   "source": [
    "The subtraction function:"
   ]
  },
  {
   "cell_type": "code",
   "execution_count": 5,
   "id": "2baaac10-5d82-4d37-af19-eabd1ce26f26",
   "metadata": {},
   "outputs": [
    {
     "data": {
      "text/plain": [
       "4"
      ]
     },
     "execution_count": 5,
     "metadata": {},
     "output_type": "execute_result"
    }
   ],
   "source": [
    "; 10 - 3 - 2 - 1\n",
    "(- 10 3 2 1)"
   ]
  },
  {
   "cell_type": "markdown",
   "id": "562c7031-d851-48d3-947a-d012189cccfa",
   "metadata": {},
   "source": [
    "The subtraction can also be used as negation (for sign changing):"
   ]
  },
  {
   "cell_type": "code",
   "execution_count": 6,
   "id": "00d3a0fe-eb4d-4f69-b635-7058309bad29",
   "metadata": {},
   "outputs": [
    {
     "data": {
      "text/plain": [
       "-5"
      ]
     },
     "execution_count": 6,
     "metadata": {},
     "output_type": "execute_result"
    }
   ],
   "source": [
    "(- 5)"
   ]
  },
  {
   "cell_type": "code",
   "execution_count": 7,
   "id": "df112211-c9eb-448e-b8d3-1c68089bcbaa",
   "metadata": {},
   "outputs": [
    {
     "data": {
      "text/plain": [
       "5"
      ]
     },
     "execution_count": 7,
     "metadata": {},
     "output_type": "execute_result"
    }
   ],
   "source": [
    "(- -5)"
   ]
  },
  {
   "cell_type": "markdown",
   "id": "6b89367e-4afc-478c-8cd3-684f739ed2c0",
   "metadata": {},
   "source": [
    "The `+` function with no arguments gives you the identity value of the addition:"
   ]
  },
  {
   "cell_type": "code",
   "execution_count": 8,
   "id": "1dd41470-a012-44bd-a2cb-5a83b94e6a9b",
   "metadata": {},
   "outputs": [
    {
     "data": {
      "text/plain": [
       "0"
      ]
     },
     "execution_count": 8,
     "metadata": {},
     "output_type": "execute_result"
    }
   ],
   "source": [
    "(+)"
   ]
  },
  {
   "cell_type": "markdown",
   "id": "cc970b1e-b0e2-416d-b1d0-d04d4e4762b3",
   "metadata": {},
   "source": [
    "Similarly, the `*` function with no arguments gives you the identity value of the multiplication:"
   ]
  },
  {
   "cell_type": "code",
   "execution_count": 9,
   "id": "6d514f1c-b4cf-4274-a8d5-b53c2118beae",
   "metadata": {},
   "outputs": [
    {
     "data": {
      "text/plain": [
       "1"
      ]
     },
     "execution_count": 9,
     "metadata": {},
     "output_type": "execute_result"
    }
   ],
   "source": [
    "(*)"
   ]
  },
  {
   "cell_type": "markdown",
   "id": "7d6e9ed0-5bc7-4b97-af84-709049ad7c9f",
   "metadata": {},
   "source": [
    "The division function:"
   ]
  },
  {
   "cell_type": "code",
   "execution_count": 10,
   "id": "a5969c4d-562f-4e55-a371-47cb1653a6c7",
   "metadata": {},
   "outputs": [
    {
     "data": {
      "text/plain": [
       "4"
      ]
     },
     "execution_count": 10,
     "metadata": {},
     "output_type": "execute_result"
    }
   ],
   "source": [
    "(/ 20 5)"
   ]
  },
  {
   "cell_type": "markdown",
   "id": "152f0eda-8131-46b2-acaa-d0e8d2a4241a",
   "metadata": {},
   "source": [
    "You get a ratio when you divide to integers but the result is not an integer value:"
   ]
  },
  {
   "cell_type": "code",
   "execution_count": 11,
   "id": "ed829883-c348-439d-b692-9981f5b8b0f9",
   "metadata": {},
   "outputs": [
    {
     "data": {
      "text/plain": [
       "3/4"
      ]
     },
     "execution_count": 11,
     "metadata": {},
     "output_type": "execute_result"
    }
   ],
   "source": [
    "(/ 3 4)"
   ]
  },
  {
   "cell_type": "markdown",
   "id": "961ea12d-1d97-44c5-9fa0-b60f7bd970e3",
   "metadata": {},
   "source": [
    "You can use ratios in other arithmetic operation, always obtaining a precise result:"
   ]
  },
  {
   "cell_type": "code",
   "execution_count": 12,
   "id": "4322e464-d08e-431b-81d0-a66f020d5881",
   "metadata": {},
   "outputs": [
    {
     "data": {
      "text/plain": [
       "5/4"
      ]
     },
     "execution_count": 12,
     "metadata": {},
     "output_type": "execute_result"
    }
   ],
   "source": [
    "(+ 1/2 3/4)"
   ]
  },
  {
   "cell_type": "markdown",
   "id": "09dc28fd-3fe3-4e2b-8e97-8c9b3aeb171e",
   "metadata": {},
   "source": [
    "In any arithmetic operation, if at least one of the arguments is a floating point number the result is also a float:"
   ]
  },
  {
   "cell_type": "code",
   "execution_count": 13,
   "id": "84a843e5-0278-495c-aad7-199155d8bfe7",
   "metadata": {},
   "outputs": [
    {
     "data": {
      "text/plain": [
       "0.75"
      ]
     },
     "execution_count": 13,
     "metadata": {},
     "output_type": "execute_result"
    }
   ],
   "source": [
    "(/ 3 4.0)"
   ]
  },
  {
   "cell_type": "code",
   "execution_count": 14,
   "id": "a2c3f012-ccb5-4538-9651-68465c49375d",
   "metadata": {},
   "outputs": [
    {
     "data": {
      "text/plain": [
       "10/3"
      ]
     },
     "execution_count": 14,
     "metadata": {},
     "output_type": "execute_result"
    }
   ],
   "source": [
    "(/ 20 6)"
   ]
  },
  {
   "cell_type": "code",
   "execution_count": 15,
   "id": "62970895-205b-40ea-9b5e-4ccb4f6bc7da",
   "metadata": {},
   "outputs": [
    {
     "data": {
      "text/plain": [
       "3.3333333333333335"
      ]
     },
     "execution_count": 15,
     "metadata": {},
     "output_type": "execute_result"
    }
   ],
   "source": [
    "(/ 20 6.0)"
   ]
  },
  {
   "cell_type": "markdown",
   "id": "ddf2701d-d9e5-46be-807a-f379373af53f",
   "metadata": {},
   "source": [
    "Use the `quot` function to get the integer quotient of the division:"
   ]
  },
  {
   "cell_type": "code",
   "execution_count": 16,
   "id": "bf79b90c-b46a-4f72-80cd-440b1c9214d1",
   "metadata": {},
   "outputs": [
    {
     "data": {
      "text/plain": [
       "3"
      ]
     },
     "execution_count": 16,
     "metadata": {},
     "output_type": "execute_result"
    }
   ],
   "source": [
    "(quot 20 6)"
   ]
  },
  {
   "cell_type": "markdown",
   "id": "ff20b055-356f-4a4f-bd08-58129a755ab6",
   "metadata": {},
   "source": [
    "Use the `rem` function to get the integer remainder of the division:"
   ]
  },
  {
   "cell_type": "code",
   "execution_count": 17,
   "id": "56817346-ae10-4e33-a2c7-02b75f563df1",
   "metadata": {},
   "outputs": [
    {
     "data": {
      "text/plain": [
       "2"
      ]
     },
     "execution_count": 17,
     "metadata": {},
     "output_type": "execute_result"
    }
   ],
   "source": [
    "(rem 20 6)"
   ]
  }
 ],
 "metadata": {
  "kernelspec": {
   "display_name": "Clojure (clojupyter=0.3.2=1)",
   "language": "clojure",
   "name": "conda-clojupyter"
  },
  "language_info": {
   "file_extension": ".clj",
   "mimetype": "text/x-clojure",
   "name": "clojure",
   "version": "1.10.1"
  }
 },
 "nbformat": 4,
 "nbformat_minor": 5
}
