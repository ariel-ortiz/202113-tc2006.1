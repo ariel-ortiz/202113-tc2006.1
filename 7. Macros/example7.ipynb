{
 "cells": [
  {
   "cell_type": "markdown",
   "id": "04d860a8-1a11-4cf2-bc02-5858f2a0fae7",
   "metadata": {},
   "source": [
    "# Introduction to Macros"
   ]
  },
  {
   "cell_type": "markdown",
   "id": "bd28c18a-1599-4ffd-b297-bdf7bcef10b9",
   "metadata": {},
   "source": [
    "## Code as Data"
   ]
  },
  {
   "cell_type": "code",
   "execution_count": 1,
   "id": "a0400344-7365-48c7-a870-2b3d1a8b8f03",
   "metadata": {},
   "outputs": [
    {
     "data": {
      "text/plain": [
       "#'user/input"
      ]
     },
     "execution_count": 1,
     "metadata": {},
     "output_type": "execute_result"
    }
   ],
   "source": [
    "(def input (read-string \"(+ 1 2 3 4 5)\"))"
   ]
  },
  {
   "cell_type": "code",
   "execution_count": 2,
   "id": "c1ff8a6f-92a4-4656-a812-af5182b10e37",
   "metadata": {},
   "outputs": [
    {
     "data": {
      "text/plain": [
       "(+ 1 2 3 4 5)"
      ]
     },
     "execution_count": 2,
     "metadata": {},
     "output_type": "execute_result"
    }
   ],
   "source": [
    "input"
   ]
  },
  {
   "cell_type": "code",
   "execution_count": 3,
   "id": "dc03009b-1f38-416c-8924-436ade75afee",
   "metadata": {},
   "outputs": [
    {
     "data": {
      "text/plain": [
       "6"
      ]
     },
     "execution_count": 3,
     "metadata": {},
     "output_type": "execute_result"
    }
   ],
   "source": [
    "(count input)"
   ]
  },
  {
   "cell_type": "code",
   "execution_count": 4,
   "id": "b39e3f7e-0697-46ed-ad2d-22ad41a77b02",
   "metadata": {},
   "outputs": [
    {
     "data": {
      "text/plain": [
       "+"
      ]
     },
     "execution_count": 4,
     "metadata": {},
     "output_type": "execute_result"
    }
   ],
   "source": [
    "(first input)"
   ]
  },
  {
   "cell_type": "code",
   "execution_count": 5,
   "id": "72a01383-5a06-49e1-91f4-9b94717820ac",
   "metadata": {},
   "outputs": [
    {
     "data": {
      "text/plain": [
       "(1 2 3 4 5)"
      ]
     },
     "execution_count": 5,
     "metadata": {},
     "output_type": "execute_result"
    }
   ],
   "source": [
    "(rest input)"
   ]
  },
  {
   "cell_type": "code",
   "execution_count": 6,
   "id": "6c978dd2-1edc-4e7a-b973-aafbb08933cb",
   "metadata": {},
   "outputs": [
    {
     "data": {
      "text/plain": [
       "1"
      ]
     },
     "execution_count": 6,
     "metadata": {},
     "output_type": "execute_result"
    }
   ],
   "source": [
    "(first (rest input))"
   ]
  },
  {
   "cell_type": "code",
   "execution_count": 7,
   "id": "44cec455-711e-4c65-b8ee-73fd59473d97",
   "metadata": {},
   "outputs": [
    {
     "data": {
      "text/plain": [
       "#'user/new-value"
      ]
     },
     "execution_count": 7,
     "metadata": {},
     "output_type": "execute_result"
    }
   ],
   "source": [
    "(def new-value (concat input [6 7 8 9 10]))"
   ]
  },
  {
   "cell_type": "code",
   "execution_count": 8,
   "id": "4ebb4649-1115-4bb4-a4e3-296d362e8172",
   "metadata": {},
   "outputs": [
    {
     "data": {
      "text/plain": [
       "(+ 1 2 3 4 5 6 7 8 9 10)"
      ]
     },
     "execution_count": 8,
     "metadata": {},
     "output_type": "execute_result"
    }
   ],
   "source": [
    "new-value"
   ]
  },
  {
   "cell_type": "code",
   "execution_count": 9,
   "id": "e698b74f-28d5-4d97-8e2e-470c45921a53",
   "metadata": {},
   "outputs": [
    {
     "data": {
      "text/plain": [
       "clojure.lang.Symbol"
      ]
     },
     "execution_count": 9,
     "metadata": {},
     "output_type": "execute_result"
    }
   ],
   "source": [
    "(class (first new-value))"
   ]
  },
  {
   "cell_type": "code",
   "execution_count": 10,
   "id": "b6ccfb9e-7e46-4a56-8e29-e68d75cd8b68",
   "metadata": {},
   "outputs": [
    {
     "data": {
      "text/plain": [
       "55"
      ]
     },
     "execution_count": 10,
     "metadata": {},
     "output_type": "execute_result"
    }
   ],
   "source": [
    "(eval new-value)"
   ]
  },
  {
   "cell_type": "markdown",
   "id": "043297bd-9090-44c6-a705-d0858b61bb20",
   "metadata": {},
   "source": [
    "## Syntax Quote"
   ]
  },
  {
   "cell_type": "code",
   "execution_count": 11,
   "id": "a7bd534b-f5e0-4a8e-85e2-d79c1807c68e",
   "metadata": {},
   "outputs": [
    {
     "data": {
      "text/plain": [
       "(+ 1 2 3)"
      ]
     },
     "execution_count": 11,
     "metadata": {},
     "output_type": "execute_result"
    }
   ],
   "source": [
    "'(+ 1 2 3) ;; Ordinary quote"
   ]
  },
  {
   "cell_type": "code",
   "execution_count": 12,
   "id": "79cb211e-77ea-43c7-869d-a87f0047780b",
   "metadata": {},
   "outputs": [
    {
     "data": {
      "text/plain": [
       "(clojure.core/+ 1 2 3)"
      ]
     },
     "execution_count": 12,
     "metadata": {},
     "output_type": "execute_result"
    }
   ],
   "source": [
    "`(+ 1 2 3) ;; Syntax quote"
   ]
  },
  {
   "cell_type": "code",
   "execution_count": 13,
   "id": "77ae58ee-b059-4378-a8bb-a5625436b6e7",
   "metadata": {},
   "outputs": [
    {
     "data": {
      "text/plain": [
       "(1 true [1 2] user/hello)"
      ]
     },
     "execution_count": 13,
     "metadata": {},
     "output_type": "execute_result"
    }
   ],
   "source": [
    "`(1 true [1 2] hello)"
   ]
  },
  {
   "cell_type": "code",
   "execution_count": 14,
   "id": "633b61a9-2e0b-440a-ae1b-110d1252109a",
   "metadata": {},
   "outputs": [
    {
     "data": {
      "text/plain": [
       "(:hello user/hello)"
      ]
     },
     "execution_count": 14,
     "metadata": {},
     "output_type": "execute_result"
    }
   ],
   "source": [
    "`(:hello hello)"
   ]
  },
  {
   "cell_type": "code",
   "execution_count": 15,
   "id": "0e085b5b-d057-4415-90f7-7864756755e8",
   "metadata": {},
   "outputs": [
    {
     "data": {
      "text/plain": [
       "(clojure.core/+ 1 2 3 (clojure.core/+ 4 5 6))"
      ]
     },
     "execution_count": 15,
     "metadata": {},
     "output_type": "execute_result"
    }
   ],
   "source": [
    "`(+ 1 2 3 (+ 4 5 6))"
   ]
  },
  {
   "cell_type": "markdown",
   "id": "dc3f7a4a-af26-4309-bb71-b2ddfa60778d",
   "metadata": {},
   "source": [
    "## Unquote"
   ]
  },
  {
   "cell_type": "code",
   "execution_count": 16,
   "id": "4f45aea9-990e-4b48-ac40-e5b8b7e5b38e",
   "metadata": {},
   "outputs": [
    {
     "data": {
      "text/plain": [
       "(clojure.core/+ 1 2 3 15)"
      ]
     },
     "execution_count": 16,
     "metadata": {},
     "output_type": "execute_result"
    }
   ],
   "source": [
    "`(+ 1 2 3 ~(+ 4 5 6))"
   ]
  },
  {
   "cell_type": "code",
   "execution_count": 17,
   "id": "56a20f0b-145b-4cf1-933c-61c16d6f3035",
   "metadata": {},
   "outputs": [
    {
     "data": {
      "text/plain": [
       "3"
      ]
     },
     "execution_count": 17,
     "metadata": {},
     "output_type": "execute_result"
    }
   ],
   "source": [
    "`~(+ 1 2)"
   ]
  },
  {
   "cell_type": "code",
   "execution_count": 18,
   "id": "da2382a9-7d9f-403a-8894-cff22bef7976",
   "metadata": {},
   "outputs": [
    {
     "data": {
      "text/plain": [
       "(1 2 3 user/hello clojure.core/+)"
      ]
     },
     "execution_count": 18,
     "metadata": {},
     "output_type": "execute_result"
    }
   ],
   "source": [
    "`(1 2 3 hello +)"
   ]
  },
  {
   "cell_type": "code",
   "execution_count": 19,
   "id": "b49cb007-7a27-4958-b19b-adce3c035028",
   "metadata": {},
   "outputs": [
    {
     "data": {
      "text/plain": [
       "(1 2 3 hello +)"
      ]
     },
     "execution_count": 19,
     "metadata": {},
     "output_type": "execute_result"
    }
   ],
   "source": [
    "`(1 2 3 ~'hello ~'+)"
   ]
  },
  {
   "cell_type": "code",
   "execution_count": 20,
   "id": "d4da7bab-7309-438f-ba55-0c680663b9de",
   "metadata": {},
   "outputs": [
    {
     "data": {
      "text/plain": [
       "(1 2 3 hello +)"
      ]
     },
     "execution_count": 20,
     "metadata": {},
     "output_type": "execute_result"
    }
   ],
   "source": [
    "'(1 2 3 hello +)"
   ]
  },
  {
   "cell_type": "code",
   "execution_count": 21,
   "id": "18c90b32-dff4-4d5b-a0cd-31c2954ba3c2",
   "metadata": {},
   "outputs": [
    {
     "data": {
      "text/plain": [
       "#'user/e"
      ]
     },
     "execution_count": 21,
     "metadata": {},
     "output_type": "execute_result"
    }
   ],
   "source": [
    "(def e '(= 1 (+ 1 2)))"
   ]
  },
  {
   "cell_type": "code",
   "execution_count": 22,
   "id": "093d0b32-ed53-4bf5-9367-8fc5b0ba7f8a",
   "metadata": {},
   "outputs": [
    {
     "data": {
      "text/plain": [
       "10"
      ]
     },
     "execution_count": 22,
     "metadata": {},
     "output_type": "execute_result"
    }
   ],
   "source": [
    "(eval `(if ~e 6 10))"
   ]
  },
  {
   "cell_type": "markdown",
   "id": "ff6829a7-67bb-48dd-9cc8-6409fe9f2ca6",
   "metadata": {},
   "source": [
    "## Unquote-splicing"
   ]
  },
  {
   "cell_type": "code",
   "execution_count": 23,
   "id": "b210b0e6-7384-46e6-b8ba-9c9125722af7",
   "metadata": {},
   "outputs": [
    {
     "data": {
      "text/plain": [
       "(1 2 3 (4 5 6))"
      ]
     },
     "execution_count": 23,
     "metadata": {},
     "output_type": "execute_result"
    }
   ],
   "source": [
    "`(1 2 3 (4 5 6))"
   ]
  },
  {
   "cell_type": "code",
   "execution_count": 24,
   "id": "8ea5554d-fd1d-481e-b5d2-ecfed8cb9f8d",
   "metadata": {},
   "outputs": [
    {
     "data": {
      "text/plain": [
       "(1 2 3 (clojure.core/list 4 5 6))"
      ]
     },
     "execution_count": 24,
     "metadata": {},
     "output_type": "execute_result"
    }
   ],
   "source": [
    "`(1 2 3 (list 4 5 6))"
   ]
  },
  {
   "cell_type": "code",
   "execution_count": 25,
   "id": "9b2e5716-b2cf-49c6-b9aa-ff2ee8cf8427",
   "metadata": {},
   "outputs": [
    {
     "data": {
      "text/plain": [
       "(1 2 3 (4 5 6))"
      ]
     },
     "execution_count": 25,
     "metadata": {},
     "output_type": "execute_result"
    }
   ],
   "source": [
    "`(1 2 3 ~(list 4 5 6))"
   ]
  },
  {
   "cell_type": "code",
   "execution_count": 26,
   "id": "e8a2b40f-490c-4a40-a652-60a39411cd9a",
   "metadata": {},
   "outputs": [
    {
     "data": {
      "text/plain": [
       "(1 2 3 4 5 6)"
      ]
     },
     "execution_count": 26,
     "metadata": {},
     "output_type": "execute_result"
    }
   ],
   "source": [
    "`(1 2 3 ~@(list 4 5 6))"
   ]
  },
  {
   "cell_type": "markdown",
   "id": "b1c1d021-1e53-43eb-8770-6a96558e70fc",
   "metadata": {},
   "source": [
    "## Macros"
   ]
  },
  {
   "cell_type": "code",
   "execution_count": 27,
   "id": "ecef40af-e2cd-4a16-842c-dd6b0d9db16a",
   "metadata": {},
   "outputs": [
    {
     "data": {
      "text/plain": [
       "#'user/example1"
      ]
     },
     "execution_count": 27,
     "metadata": {},
     "output_type": "execute_result"
    }
   ],
   "source": [
    "(defmacro example1\n",
    "  [a b]\n",
    "  `(+ ~a ~b))"
   ]
  },
  {
   "cell_type": "code",
   "execution_count": 28,
   "id": "91f6600f-ebc9-4cea-a3ef-a6d1414de895",
   "metadata": {},
   "outputs": [
    {
     "data": {
      "text/plain": [
       "(clojure.core/+ (+ 4 5) (* 3 2))"
      ]
     },
     "execution_count": 28,
     "metadata": {},
     "output_type": "execute_result"
    }
   ],
   "source": [
    "(macroexpand-1 '(example1 (+ 4 5) (* 3 2)))"
   ]
  },
  {
   "cell_type": "code",
   "execution_count": 29,
   "id": "7ea41928-0694-4d18-8706-ae7f222ee708",
   "metadata": {},
   "outputs": [
    {
     "data": {
      "text/plain": [
       "15"
      ]
     },
     "execution_count": 29,
     "metadata": {},
     "output_type": "execute_result"
    }
   ],
   "source": [
    "(example1 (+ 4 5) (* 3 2))"
   ]
  },
  {
   "cell_type": "code",
   "execution_count": 30,
   "id": "2b3abbb5-7508-49a9-aa72-090d6672e062",
   "metadata": {},
   "outputs": [
    {
     "data": {
      "text/plain": [
       "#'user/my-if"
      ]
     },
     "execution_count": 30,
     "metadata": {},
     "output_type": "execute_result"
    }
   ],
   "source": [
    "(defmacro my-if \n",
    "  [expr then else]\n",
    "  `(if ~expr ~then ~else))"
   ]
  },
  {
   "cell_type": "code",
   "execution_count": 31,
   "id": "ebc64418-e904-4100-9dc8-8a164d301b79",
   "metadata": {},
   "outputs": [
    {
     "data": {
      "text/plain": [
       "(if (= 1 2) (/ 5 0) 6)"
      ]
     },
     "execution_count": 31,
     "metadata": {},
     "output_type": "execute_result"
    }
   ],
   "source": [
    "(macroexpand-1 '(my-if (= 1 2) (/ 5 0) 6))"
   ]
  },
  {
   "cell_type": "code",
   "execution_count": 32,
   "id": "7ff47e47-f6ed-484f-9049-91dcaccf280d",
   "metadata": {},
   "outputs": [
    {
     "data": {
      "text/plain": [
       "6"
      ]
     },
     "execution_count": 32,
     "metadata": {},
     "output_type": "execute_result"
    }
   ],
   "source": [
    "(my-if (= 1 2) (/ 5 0) 6)"
   ]
  },
  {
   "cell_type": "code",
   "execution_count": 33,
   "id": "0d72e8af-494f-4446-a01a-fbd22038b15c",
   "metadata": {},
   "outputs": [
    {
     "data": {
      "text/plain": [
       "#'user/my-if-fun"
      ]
     },
     "execution_count": 33,
     "metadata": {},
     "output_type": "execute_result"
    }
   ],
   "source": [
    "(defn my-if-fun\n",
    "  [expr then else]\n",
    "  (if expr then else))"
   ]
  },
  {
   "cell_type": "code",
   "execution_count": 34,
   "id": "560d1882-d0cf-40ae-ada1-f9b31c305a8b",
   "metadata": {},
   "outputs": [
    {
     "data": {},
     "execution_count": 34,
     "metadata": {},
     "output_type": "execute_result"
    }
   ],
   "source": [
    ";(my-if-fun (= 1 2) (/ 5 0) 6) ;; this produces an error"
   ]
  },
  {
   "cell_type": "markdown",
   "id": "b1cbde0e-1e4d-4f02-9544-440079567a6f",
   "metadata": {},
   "source": [
    "## How `and` and `or` work"
   ]
  },
  {
   "cell_type": "code",
   "execution_count": 35,
   "id": "bc3f5e73-46a8-4e74-9ebb-a6dd99b956b7",
   "metadata": {},
   "outputs": [
    {
     "data": {
      "text/plain": [
       "false"
      ]
     },
     "execution_count": 35,
     "metadata": {},
     "output_type": "execute_result"
    }
   ],
   "source": [
    "(and (= 1 2) (< 4 5))"
   ]
  },
  {
   "cell_type": "code",
   "execution_count": 36,
   "id": "d9a3ec5b-fdfb-4d9e-896d-2cf5e09ef2b2",
   "metadata": {},
   "outputs": [
    {
     "data": {
      "text/plain": [
       "4"
      ]
     },
     "execution_count": 36,
     "metadata": {},
     "output_type": "execute_result"
    }
   ],
   "source": [
    "(and 1 2 3 4)"
   ]
  },
  {
   "cell_type": "code",
   "execution_count": 37,
   "id": "d818f9ea-73be-41f0-899b-44eaa0835618",
   "metadata": {},
   "outputs": [
    {
     "data": {
      "text/plain": [
       "nil"
      ]
     },
     "execution_count": 37,
     "metadata": {},
     "output_type": "execute_result"
    }
   ],
   "source": [
    "(and 1 nil 3 4)"
   ]
  },
  {
   "cell_type": "code",
   "execution_count": 38,
   "id": "3118bb35-1df2-4268-9f5f-b8b781f3625d",
   "metadata": {},
   "outputs": [
    {
     "data": {
      "text/plain": [
       "false"
      ]
     },
     "execution_count": 38,
     "metadata": {},
     "output_type": "execute_result"
    }
   ],
   "source": [
    "(and 1 2 false 4)"
   ]
  },
  {
   "cell_type": "code",
   "execution_count": 39,
   "id": "3edd2929-62d4-4e1d-a198-cdbe47bc8486",
   "metadata": {},
   "outputs": [
    {
     "data": {
      "text/plain": [
       "true"
      ]
     },
     "execution_count": 39,
     "metadata": {},
     "output_type": "execute_result"
    }
   ],
   "source": [
    "(and)"
   ]
  },
  {
   "cell_type": "code",
   "execution_count": 40,
   "id": "e5adbff8-5ad2-4b4e-b890-5025b66c65bb",
   "metadata": {},
   "outputs": [
    {
     "data": {
      "text/plain": [
       "5"
      ]
     },
     "execution_count": 40,
     "metadata": {},
     "output_type": "execute_result"
    }
   ],
   "source": [
    "(and 5)"
   ]
  },
  {
   "cell_type": "code",
   "execution_count": 41,
   "id": "fd986257-c716-4bf3-b89a-0625af8d33e9",
   "metadata": {},
   "outputs": [
    {
     "data": {
      "text/plain": [
       "true"
      ]
     },
     "execution_count": 41,
     "metadata": {},
     "output_type": "execute_result"
    }
   ],
   "source": [
    "(and true)"
   ]
  },
  {
   "cell_type": "code",
   "execution_count": 42,
   "id": "63fd2b4c-c292-4734-8dd0-bb77dd32eba6",
   "metadata": {},
   "outputs": [
    {
     "data": {
      "text/plain": [
       "nil"
      ]
     },
     "execution_count": 42,
     "metadata": {},
     "output_type": "execute_result"
    }
   ],
   "source": [
    "(and nil)"
   ]
  },
  {
   "cell_type": "code",
   "execution_count": 43,
   "id": "7ab7a3ca-0b08-4cb1-a2d7-03928734a821",
   "metadata": {},
   "outputs": [
    {
     "data": {
      "text/plain": [
       "nil"
      ]
     },
     "execution_count": 43,
     "metadata": {},
     "output_type": "execute_result"
    }
   ],
   "source": [
    "(or)"
   ]
  },
  {
   "cell_type": "code",
   "execution_count": 44,
   "id": "7de801b0-0b40-4e62-af92-e7db26712faf",
   "metadata": {},
   "outputs": [
    {
     "data": {
      "text/plain": [
       "1"
      ]
     },
     "execution_count": 44,
     "metadata": {},
     "output_type": "execute_result"
    }
   ],
   "source": [
    "(or 1)"
   ]
  },
  {
   "cell_type": "code",
   "execution_count": 45,
   "id": "d82b998e-b255-4ed2-99d1-0c67e6fe2be9",
   "metadata": {},
   "outputs": [
    {
     "data": {
      "text/plain": [
       "1"
      ]
     },
     "execution_count": 45,
     "metadata": {},
     "output_type": "execute_result"
    }
   ],
   "source": [
    "(or 1 2 3 4)"
   ]
  },
  {
   "cell_type": "code",
   "execution_count": 46,
   "id": "e4fe168a-995d-422b-8796-c0bdbf4c11bc",
   "metadata": {},
   "outputs": [
    {
     "data": {
      "text/plain": [
       "nil"
      ]
     },
     "execution_count": 46,
     "metadata": {},
     "output_type": "execute_result"
    }
   ],
   "source": [
    "(or nil false nil nil)"
   ]
  }
 ],
 "metadata": {
  "kernelspec": {
   "display_name": "Clojure (clojupyter=0.3.2=1)",
   "language": "clojure",
   "name": "conda-clojupyter"
  },
  "language_info": {
   "file_extension": ".clj",
   "mimetype": "text/x-clojure",
   "name": "clojure",
   "version": "1.10.1"
  }
 },
 "nbformat": 4,
 "nbformat_minor": 5
}
