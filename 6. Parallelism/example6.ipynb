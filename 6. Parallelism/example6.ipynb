{
 "cells": [
  {
   "cell_type": "code",
   "execution_count": 1,
   "id": "cc7e6335-e037-43ae-abfa-47e1722b0332",
   "metadata": {},
   "outputs": [
    {
     "data": {
      "text/plain": [
       "#'user/fibo"
      ]
     },
     "execution_count": 1,
     "metadata": {},
     "output_type": "execute_result"
    }
   ],
   "source": [
    "(defn fibo\n",
    "  [n]\n",
    "  (if (< n 2)\n",
    "    n\n",
    "    (+ (fibo (- n 1))\n",
    "       (fibo (- n 2)))))"
   ]
  },
  {
   "cell_type": "code",
   "execution_count": 2,
   "id": "78b33b2d-1e65-4a5f-9f9a-30552a9232ca",
   "metadata": {},
   "outputs": [
    {
     "name": "stdout",
     "output_type": "stream",
     "text": [
      "\"Elapsed time: 15033.197824 msecs\"\n"
     ]
    },
    {
     "data": {
      "text/plain": [
       "(267914296 267914296 267914296 267914296)"
      ]
     },
     "execution_count": 2,
     "metadata": {},
     "output_type": "execute_result"
    }
   ],
   "source": [
    "(time (doall (pmap fibo (repeat 4 42))))"
   ]
  },
  {
   "cell_type": "markdown",
   "id": "cb2b390f-f098-4554-ab4f-398eea2b5a73",
   "metadata": {},
   "source": [
    "# Time\n",
    "\n",
    "$T_1 = 28.014 s$\n",
    "\n",
    "$T_4 = 15.860 s$\n",
    "\n",
    "$S_p = 1.7663$"
   ]
  },
  {
   "cell_type": "code",
   "execution_count": 3,
   "id": "37188c21-fd50-4cfc-a7a1-49efc50d0b22",
   "metadata": {},
   "outputs": [
    {
     "data": {
      "text/plain": [
       "1.7663303909205548"
      ]
     },
     "execution_count": 3,
     "metadata": {},
     "output_type": "execute_result"
    }
   ],
   "source": [
    "(/ 28.014 15.86)"
   ]
  }
 ],
 "metadata": {
  "kernelspec": {
   "display_name": "Clojure (clojupyter=0.3.2=1)",
   "language": "clojure",
   "name": "conda-clojupyter"
  },
  "language_info": {
   "file_extension": ".clj",
   "mimetype": "text/x-clojure",
   "name": "clojure",
   "version": "1.10.1"
  }
 },
 "nbformat": 4,
 "nbformat_minor": 5
}
