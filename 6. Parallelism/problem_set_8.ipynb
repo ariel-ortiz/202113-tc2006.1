{
 "cells": [
  {
   "cell_type": "markdown",
   "metadata": {},
   "source": [
    "# Problem Set #8\n",
    "## Tc2006 Programming Languages\n",
    "\n",
    "October 11, 2021.\n",
    "\n",
    "_Authors of this notebook’s solution:_\n",
    "\n",
    "- TEAM #\n",
    "- Student ID and Name:\n",
    "- Student ID and Name:"
   ]
  },
  {
   "cell_type": "markdown",
   "metadata": {},
   "source": [
    "## Speedup\n",
    "\n",
    "The speed of a program is the time it takes the program to execute. This could be measured in any increment of time. _Speedup_ is defined as the time it takes a program to execute sequentially (with one processor) divided by the time it takes to execute in parallel (with many processors). The formula for speedup is:\n",
    "\n",
    "$$\n",
    "S_p = \\frac{T_1}{T_p}\n",
    "$$\n",
    "\n",
    "where:\n",
    "\n",
    "* $S_p$ is the speedup obtained from using $p$ processors.\n",
    "* $T_1$ is the time it takes the program to be executed sequentially.\n",
    "* $T_p$ is the time it takes the program to be executed in parallel using $p$ processors.\n",
    "\n",
    "_Linear speedup_ or _ideal speedup_ is obtained when:\n",
    "\n",
    "$$\n",
    "S_p = p\n",
    "$$\n",
    "\n",
    "When running an algorithm with linear speedup, doubling the number of processors doubles the speed. As this is ideal, it is considered very good scalability.\n",
    "\n",
    "\\[AKHTER\\] pp. 13-15."
   ]
  },
  {
   "cell_type": "markdown",
   "metadata": {},
   "source": [
    "---\n",
    "## Problem 1\n",
    "\n",
    "Numerical integration is a method of computing an approximation of the area under the curve of a function, especially when the exact integral cannot be solved. For example, the value of the constant $\\pi$ can be defined by the following integral:\n",
    "\n",
    "$$\n",
    "\\pi = \\int_{0}^{1}\\frac{4}{1+x^2}\\mathit{dx}\n",
    "$$\n",
    "\n",
    "However, rather than solve this integral exactly, we can approximate the solution by use of numerical integration. The following C code is an implementation of the numerical integration midpoint rectangle rule to solve the integral just shown. To compute an approximation of the area under the curve, we must compute the area of some number of rectangles (`num_rects`) by finding the midpoint (`mid`) of each rectangle and computing the height of that rectangle (`height`), which is simply the function value at that midpoint. We add together the heights of all the rectangles (`sum`) and, once computed, we multiply the sum of the heights by the width of the rectangles (`width`) to determine the desired approximation of the total area (`area`) and the value of $\\pi$.\n",
    "\n",
    "```c\n",
    "double compute_pi(long num_rects) {\n",
    "    double sum = 0.0;\n",
    "    double width = 1.0 / (double) num_rects;\n",
    "    for (long i = 0; i < num_rects; i++) {\n",
    "        double mid = (i + 0.5) * width;\n",
    "        double height = 4.0 / (1.0 + mid * mid);\n",
    "        sum += height;\n",
    "    }\n",
    "    return width * sum;\n",
    "}\n",
    "```\n",
    "\n",
    "Write an equivalent Clojure function `compute-pi`. Test the function with a large value of `num-rects` that takes several seconds to compute. In theory, you should get a better approximation of $\\pi$ for larger values of `num-rects`. Compare your results with the first 20 decimal places of $\\pi$: \n",
    "\n",
    "$$\n",
    "3.14159265358979323846 \\ldots\n",
    "$$\n",
    "\n",
    "Have in mind that 64-bit double precision floating point numbers are accurate up to sixteen decimal places but after calculations have been done there may be some rounding errors to account for.\n",
    "\n",
    "Afterwards, modify your code so that it uses the `pmap` function to compute its result using a specified number of threads. Measure the time with 1 and $p$ threads, where $p$ is the number of logical CPU cores in your system. Calculate the speedup $S_p$. \n",
    "\n",
    "**TIPS:** Use the function (`time` $\\textit{expr}$) to evaluate $\\textit{expr}$ and print how many milliseconds it took. The function returns the result of $\\textit{expr}$. Finally, you can get the number of logical cores with the following expression:"
   ]
  },
  {
   "cell_type": "code",
   "execution_count": 1,
   "metadata": {},
   "outputs": [
    {
     "data": {
      "text/plain": [
       "4"
      ]
     },
     "execution_count": 1,
     "metadata": {},
     "output_type": "execute_result"
    }
   ],
   "source": [
    "(.availableProcessors (Runtime/getRuntime))"
   ]
  },
  {
   "cell_type": "code",
   "execution_count": 2,
   "metadata": {},
   "outputs": [
    {
     "data": {
      "text/plain": [
       "#'user/compute-pi"
      ]
     },
     "execution_count": 2,
     "metadata": {},
     "output_type": "execute_result"
    }
   ],
   "source": [
    "(defn compute-pi\n",
    "  [num-rects start end]\n",
    "  (let [width (/ 1.0 num-rects)]\n",
    "    (loop [sum 0.0\n",
    "           i start]\n",
    "      (if (< i end)\n",
    "        (let [mid    (* (+ i 0.5) width)\n",
    "              height (/ 4.0 (+ 1.0 (* mid mid)))]\n",
    "          (recur (+ sum height) (inc i)))\n",
    "        (* width sum)))))"
   ]
  },
  {
   "cell_type": "code",
   "execution_count": 3,
   "metadata": {},
   "outputs": [
    {
     "data": {
      "text/plain": [
       "#'user/range-limits"
      ]
     },
     "execution_count": 3,
     "metadata": {},
     "output_type": "execute_result"
    }
   ],
   "source": [
    "(defn range-limits\n",
    "  [num-rects num-threads]\n",
    "  (partition 2 1 (range 0 (+ num-rects 1) (/ num-rects num-threads))))"
   ]
  },
  {
   "cell_type": "code",
   "execution_count": 4,
   "metadata": {},
   "outputs": [
    {
     "data": {
      "text/plain": [
       "#'user/pi"
      ]
     },
     "execution_count": 4,
     "metadata": {},
     "output_type": "execute_result"
    }
   ],
   "source": [
    "(defn pi\n",
    "  [n p]\n",
    "  (reduce +\n",
    "          (pmap (fn [[start end]]\n",
    "                  (compute-pi n start end))\n",
    "                (range-limits n p))))"
   ]
  },
  {
   "cell_type": "code",
   "execution_count": 5,
   "metadata": {},
   "outputs": [
    {
     "name": "stdout",
     "output_type": "stream",
     "text": [
      "\"Elapsed time: 3897.67132 msecs\"\n"
     ]
    },
    {
     "data": {
      "text/plain": [
       "3.1415926535898215"
      ]
     },
     "execution_count": 5,
     "metadata": {},
     "output_type": "execute_result"
    }
   ],
   "source": [
    "(time (pi 1000000000 (.availableProcessors (Runtime/getRuntime))))"
   ]
  },
  {
   "cell_type": "markdown",
   "metadata": {},
   "source": [
    "$T_1 = 10.385s$\n",
    "\n",
    "$T_4 = 3.661s$\n",
    "\n",
    "$S_4 = 2.836$"
   ]
  },
  {
   "cell_type": "code",
   "execution_count": 6,
   "metadata": {},
   "outputs": [
    {
     "data": {
      "text/plain": [
       "2.8366566511882"
      ]
     },
     "execution_count": 6,
     "metadata": {},
     "output_type": "execute_result"
    }
   ],
   "source": [
    "(/ 10.385 3.661)"
   ]
  },
  {
   "cell_type": "markdown",
   "metadata": {},
   "source": [
    "---\n",
    "## Problem 2\n",
    "\n",
    "If you convert the number 17 to binary and hexadecimal you get $10001_b$ and $11_h$, which happen to be palindromes (a sequence that reads the same backward as forward). Other numbers that have this same property are: 0 $(0_b, 0_h)$, 153 $(10011001_b, 99_h)$ and 255 $(11111111_b, \\textrm{FF}_h)$. Let’s call these numbers _bin-hex-palindromes_.\n",
    "\n",
    "Write a Clojure function `(count-bin-hex-palindromes n num-threads)` that counts the total number of _bin-hex-palindromes_ that are less than $2^n$. So, for example, if $n=7$ the function should return 11, because $2^7 = 128$, and there are 11 _bin-hex-palindromes_ that are less than 128: \n",
    "\n",
    "- _0_ $(0_b, 0_h)$\n",
    "- _1_ $(1_b, 1_h)$\n",
    "- _3_ $(11_b, 3_h)$\n",
    "- _5_ $(101_b, 5_h)$ \n",
    "- _7_ $(111_b, 7_h)$\n",
    "- _9_ $(1001_b, 9_h)$\n",
    "- _15_ $(1111_b, \\textrm{F}_h)$\n",
    "- _17_ $(10001_b, 11_h)$\n",
    "- _51_ $(110011_b, 33_h)$ \n",
    "- _85_ $(1010101_b, 55_h)$\n",
    "- _119_ $(1110111_b, 77_h)$\n",
    "\n",
    "The implementation must use `pmap` and consider the number of threads provided by `num-threads`, assuming that $n \\ge \\log_2(\\texttt{num-threads})$.\n",
    "\n",
    "Test your function with a value of $n$ that takes several seconds to compute. Measure the time with 1 and $p$ threads, where $p$ is the number of logical CPU cores in your system. Finally, compute the speedup $S_p$."
   ]
  },
  {
   "cell_type": "markdown",
   "metadata": {},
   "source": [
    "**TIPS:** The following Clojure and Java functions can be used to solve this problem:"
   ]
  },
  {
   "cell_type": "code",
   "execution_count": null,
   "metadata": {},
   "outputs": [],
   "source": [
    "(Integer/toBinaryString 17)"
   ]
  },
  {
   "cell_type": "code",
   "execution_count": null,
   "metadata": {},
   "outputs": [],
   "source": [
    "(Integer/toHexString 17)"
   ]
  },
  {
   "cell_type": "code",
   "execution_count": null,
   "metadata": {},
   "outputs": [],
   "source": [
    "(reverse \"abba\") "
   ]
  },
  {
   "cell_type": "code",
   "execution_count": null,
   "metadata": {},
   "outputs": [],
   "source": [
    "(seq \"abba\")"
   ]
  },
  {
   "cell_type": "code",
   "execution_count": null,
   "metadata": {},
   "outputs": [],
   "source": [
    "(= (seq \"abba\") (reverse \"abba\"))"
   ]
  },
  {
   "cell_type": "code",
   "execution_count": null,
   "metadata": {},
   "outputs": [],
   "source": []
  }
 ],
 "metadata": {
  "kernelspec": {
   "display_name": "Clojure (clojupyter=0.3.2=1)",
   "language": "clojure",
   "name": "conda-clojupyter"
  },
  "language_info": {
   "file_extension": ".clj",
   "mimetype": "text/x-clojure",
   "name": "clojure",
   "version": "1.10.1"
  }
 },
 "nbformat": 4,
 "nbformat_minor": 4
}
